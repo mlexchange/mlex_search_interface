{
 "cells": [
  {
   "cell_type": "code",
   "execution_count": 2,
   "metadata": {},
   "outputs": [],
   "source": [
    "import json"
   ]
  },
  {
   "cell_type": "code",
   "execution_count": 4,
   "metadata": {},
   "outputs": [
    {
     "name": "stdout",
     "output_type": "stream",
     "text": [
      "{\"user\": [{\"name\": \"Tibbers Hao\", \"affiliation\": \"LBNL\", \"role\": \"admin\", \"uid\": \"A12345\"}, {\"name\": \"Tanny Andrea Chavez Esparza\", \"affiliation\": \"LBNL\", \"role\": \"admin\", \"uid\": \"A67890\"}, {\"name\": \"Zhuowen Zhao\", \"affiliation\": \"LBNL\", \"role\": \"admin\", \"uid\": \"A13579\"}, {\"name\": \"Elizabeth Holman\", \"affiliation\": \"LBNL\", \"role\": \"admin\", \"uid\": \"A24680\"}, {\"name\": \"Hari Krishnan\", \"affiliation\": \"LBNL\", \"role\": \"admin\", \"uid\": \"A09876\"}, {\"name\": \"Howard Yanxon\", \"affiliation\": \"ANL\", \"role\": \"admin\", \"uid\": \"A54321\"}, {\"name\": \"Dula Parkinson\", \"affiliation\": \"LBNL\", \"role\": \"user\", \"uid\": \"B12121\"}, {\"name\": \"John Doe\", \"affiliation\": \"UCB\", \"role\": \"user\", \"uid\": \"B56565\"}, {\"name\": \"Jane Doe\", \"affiliation\": \"Stanford\", \"role\": \"user\", \"uid\": \"B78787\"}], \"app\": [{\"name\": \"segmentation\", \"target\": \"image\", \"uid\": \"1\"}, {\"name\": \"peak detection\", \"target\": \"spectra\", \"uid\": \"2\"}, {\"name\": \"label maker\", \"target\": \"image\", \"uid\": \"3\"}, {\"name\": \"colorwheel\", \"target\": \"image\", \"uid\": \"4\"}]}\n"
     ]
    }
   ],
   "source": [
    "data = {\n",
    "    'user' : [\n",
    "        {\n",
    "            'name' : 'Tibbers Hao',\n",
    "            'affiliation' : 'LBNL',\n",
    "            'role' : 'admin',\n",
    "            'uid' : 'A12345'\n",
    "        },\n",
    "        {\n",
    "            'name' : 'Tanny Andrea Chavez Esparza',\n",
    "            'affiliation' : 'LBNL',\n",
    "            'role' : 'admin',\n",
    "            'uid' : 'A67890'\n",
    "        },\n",
    "        {\n",
    "            'name' : 'Zhuowen Zhao',\n",
    "            'affiliation' : 'LBNL',\n",
    "            'role' : 'admin',\n",
    "            'uid' : 'A13579'\n",
    "        },\n",
    "        {\n",
    "            'name' : 'Elizabeth Holman',\n",
    "            'affiliation' : 'LBNL',\n",
    "            'role' : 'admin',\n",
    "            'uid' : 'A24680'\n",
    "        },\n",
    "        {\n",
    "            'name' : 'Hari Krishnan',\n",
    "            'affiliation' : 'LBNL',\n",
    "            'role' : 'admin',\n",
    "            'uid' : 'A09876'\n",
    "        },\n",
    "        {\n",
    "            'name' : 'Howard Yanxon',\n",
    "            'affiliation' : 'ANL',\n",
    "            'role' : 'admin',\n",
    "            'uid' : 'A54321'\n",
    "        },\n",
    "        {\n",
    "            'name' : 'Dula Parkinson',\n",
    "            'affiliation' : 'LBNL',\n",
    "            'role' : 'user',\n",
    "            'uid' : 'B12121'\n",
    "        },\n",
    "        {\n",
    "            'name' : 'John Doe',\n",
    "            'affiliation' : 'UCB',\n",
    "            'role' : 'user',\n",
    "            'uid' : 'B56565'\n",
    "        },\n",
    "        {\n",
    "            'name' : 'Jane Doe',\n",
    "            'affiliation' : 'Stanford',\n",
    "            'role' : 'user',\n",
    "            'uid' : 'B78787'\n",
    "        },\n",
    "    ],\n",
    "    'app' : [\n",
    "        {\n",
    "            'name' : 'segmentation',\n",
    "            'target' : 'image',\n",
    "            'uid' : '1'\n",
    "        },\n",
    "        {\n",
    "            'name' : 'peak detection',\n",
    "            'target' : 'spectra',\n",
    "            'uid' : '2'\n",
    "        },\n",
    "        {\n",
    "            'name' : 'label maker',\n",
    "            'target' : 'image',\n",
    "            'uid' : '3'\n",
    "        },\n",
    "        {\n",
    "            'name' : 'colorwheel',\n",
    "            'target' : 'image',\n",
    "            'uid' : '4'\n",
    "        }\n",
    "    ]\n",
    "}\n",
    "\n",
    "json_string = json.dumps(data)\n",
    "print(json_string)"
   ]
  },
  {
   "cell_type": "code",
   "execution_count": 5,
   "metadata": {},
   "outputs": [],
   "source": [
    "with open('database.json', 'w') as outfile:\n",
    "    json.dump(json_string, outfile)"
   ]
  },
  {
   "cell_type": "code",
   "execution_count": null,
   "metadata": {},
   "outputs": [],
   "source": []
  }
 ],
 "metadata": {
  "interpreter": {
   "hash": "31cd925df3a9a2b93a9ec5353d213be0abd2a58cb727e588c5a163875b43a5df"
  },
  "kernelspec": {
   "display_name": "Python 3.10.0 ('elasticsearch')",
   "language": "python",
   "name": "python3"
  },
  "language_info": {
   "codemirror_mode": {
    "name": "ipython",
    "version": 3
   },
   "file_extension": ".py",
   "mimetype": "text/x-python",
   "name": "python",
   "nbconvert_exporter": "python",
   "pygments_lexer": "ipython3",
   "version": "3.10.0"
  },
  "orig_nbformat": 4
 },
 "nbformat": 4,
 "nbformat_minor": 2
}
