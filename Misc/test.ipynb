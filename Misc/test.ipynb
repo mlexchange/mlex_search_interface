{
 "cells": [
  {
   "cell_type": "code",
   "execution_count": 1,
   "metadata": {},
   "outputs": [],
   "source": [
    "from elasticsearch import Elasticsearch\n",
    "from elasticsearch_dsl import Search, Index, Document, UpdateByQuery\n",
    "\n",
    "from ssl import create_default_context\n",
    "import json"
   ]
  },
  {
   "cell_type": "code",
   "execution_count": null,
   "metadata": {},
   "outputs": [],
   "source": [
    "# ! docker cp searchapi-elasticsearch-1:usr/share/elasticsearch/config/certs/ca/ca.crt .\n",
    "# ! docker exec -it fastapi-elasticsearch-1 /usr/share/elasticsearch/bin/elasticsearch-reset-password -u elastic\n",
    "# ! docker exec -it fastapi-elasticsearch-1 /usr/share/elasticsearch/bin/elasticsearch-create-enrollment-token -s kibana\n",
    "# ! docker exec -it fastapi-kibana-1 /usr/share/kibana/bin/kibana-verification-code"
   ]
  },
  {
   "cell_type": "code",
   "execution_count": null,
   "metadata": {},
   "outputs": [],
   "source": [
    "! docker cp searchapi_elasticsearch_1:usr/share/elasticsearch/config/certs/ca/ca.crt ."
   ]
  },
  {
   "cell_type": "code",
   "execution_count": 5,
   "metadata": {},
   "outputs": [],
   "source": [
    "#context = create_default_context(cafile='./ca.crt')\n",
    "\n",
    "es = Elasticsearch('https://es01:9200', basic_auth=('elastic','elastic'),\n",
    "    #ssl_context=context,\n",
    ")"
   ]
  },
  {
   "cell_type": "code",
   "execution_count": 6,
   "metadata": {},
   "outputs": [
    {
     "data": {
      "text/plain": [
       "<Elasticsearch([{'host': 'es01', 'port': 9200, 'use_ssl': True}])>"
      ]
     },
     "execution_count": 6,
     "metadata": {},
     "output_type": "execute_result"
    }
   ],
   "source": [
    "es"
   ]
  },
  {
   "cell_type": "code",
   "execution_count": 5,
   "metadata": {},
   "outputs": [
    {
     "name": "stdout",
     "output_type": "stream",
     "text": [
      "user\n",
      "{'name': 'Tibbers Hao', 'affiliation': 'LBNL', 'role': 'admin', 'uid': 'A12345'}\n",
      "{'name': 'Tanny Andrea Chavez Esparza', 'affiliation': 'LBNL', 'role': 'admin', 'uid': 'A67890'}\n",
      "{'name': 'Zhuowen Zhao', 'affiliation': 'LBNL', 'role': 'admin', 'uid': 'A13579'}\n",
      "{'name': 'Elizabeth Holman', 'affiliation': 'LBNL', 'role': 'admin', 'uid': 'A24680'}\n",
      "{'name': 'Hari Krishnan', 'affiliation': 'LBNL', 'role': 'admin', 'uid': 'A09876'}\n",
      "{'name': 'Howard Yanxon', 'affiliation': 'ANL', 'role': 'admin', 'uid': 'A54321'}\n",
      "{'name': 'Dula Parkinson', 'affiliation': 'LBNL', 'role': 'user', 'uid': 'B12121'}\n",
      "{'name': 'John Doe', 'affiliation': 'UCB', 'role': 'user', 'uid': 'B56565'}\n",
      "{'name': 'Jane Doe', 'affiliation': 'Stanford', 'role': 'user', 'uid': 'B78787'}\n",
      "app\n",
      "{'name': 'segmentation', 'target': 'image', 'uid': '1'}\n",
      "{'name': 'peak detection', 'target': 'spectra', 'uid': '2'}\n",
      "{'name': 'label maker', 'target': 'image', 'uid': '3'}\n",
      "{'name': 'colorwheel', 'target': 'image', 'uid': '4'}\n"
     ]
    }
   ],
   "source": [
    "with open('database.json') as json_file:\n",
    "    database = json.load(json_file)\n",
    "\n",
    "# Transfer string to dict    \n",
    "database = json.loads(database)\n",
    "\n",
    "for key, values in database.items():\n",
    "    print(key)\n",
    "    for item in values:\n",
    "        print(item)"
   ]
  },
  {
   "cell_type": "code",
   "execution_count": 17,
   "metadata": {},
   "outputs": [],
   "source": [
    "# Connection with Content Registry\n",
    "import urllib.request\n",
    "\n",
    "def model_list_GET_call(url):\n",
    "    \"\"\"\n",
    "    Get the whole model registry data from the fastapi url.\n",
    "    \"\"\"\n",
    "    #url = 'http://localhost:8000/api/v0/models'  # current host, could be inside the docker\n",
    "    response = urllib.request.urlopen(url)\n",
    "    data = json.loads(response.read())\n",
    "    return data"
   ]
  },
  {
   "cell_type": "code",
   "execution_count": 10,
   "metadata": {},
   "outputs": [
    {
     "ename": "NameError",
     "evalue": "name 'model_list_GET_call' is not defined",
     "output_type": "error",
     "traceback": [
      "\u001b[0;31m---------------------------------------------------------------------------\u001b[0m",
      "\u001b[0;31mNameError\u001b[0m                                 Traceback (most recent call last)",
      "\u001b[0;32m/var/folders/qm/fz0bzgqs14s999_5ws_k2kq80000gn/T/ipykernel_78663/510489576.py\u001b[0m in \u001b[0;36m<cell line: 3>\u001b[0;34m()\u001b[0m\n\u001b[1;32m      1\u001b[0m \u001b[0mkeys\u001b[0m \u001b[0;34m=\u001b[0m \u001b[0;34m[\u001b[0m\u001b[0;34m\"name\"\u001b[0m\u001b[0;34m,\u001b[0m\u001b[0;34m\"version\"\u001b[0m\u001b[0;34m,\u001b[0m\u001b[0;34m\"type\"\u001b[0m\u001b[0;34m,\u001b[0m\u001b[0;34m\"uri\"\u001b[0m\u001b[0;34m,\u001b[0m\u001b[0;34m\"reference\"\u001b[0m\u001b[0;34m,\u001b[0m \u001b[0;34m\"description\"\u001b[0m\u001b[0;34m,\u001b[0m\u001b[0;34m\"content_id\"\u001b[0m\u001b[0;34m]\u001b[0m\u001b[0;34m\u001b[0m\u001b[0;34m\u001b[0m\u001b[0m\n\u001b[1;32m      2\u001b[0m \u001b[0;34m\u001b[0m\u001b[0m\n\u001b[0;32m----> 3\u001b[0;31m \u001b[0;32mfor\u001b[0m \u001b[0mmodel\u001b[0m \u001b[0;32min\u001b[0m \u001b[0mmodel_list_GET_call\u001b[0m\u001b[0;34m(\u001b[0m\u001b[0;34m)\u001b[0m\u001b[0;34m:\u001b[0m\u001b[0;34m\u001b[0m\u001b[0;34m\u001b[0m\u001b[0m\n\u001b[0m\u001b[1;32m      4\u001b[0m     \u001b[0mcontent_data\u001b[0m \u001b[0;34m=\u001b[0m \u001b[0;34m{\u001b[0m\u001b[0;34m}\u001b[0m\u001b[0;34m\u001b[0m\u001b[0;34m\u001b[0m\u001b[0m\n\u001b[1;32m      5\u001b[0m     \u001b[0;32mfor\u001b[0m \u001b[0mkey\u001b[0m\u001b[0;34m,\u001b[0m \u001b[0mvalue\u001b[0m \u001b[0;32min\u001b[0m \u001b[0mmodel\u001b[0m\u001b[0;34m.\u001b[0m\u001b[0mitems\u001b[0m\u001b[0;34m(\u001b[0m\u001b[0;34m)\u001b[0m\u001b[0;34m:\u001b[0m\u001b[0;34m\u001b[0m\u001b[0;34m\u001b[0m\u001b[0m\n",
      "\u001b[0;31mNameError\u001b[0m: name 'model_list_GET_call' is not defined"
     ]
    }
   ],
   "source": [
    "keys = [\"name\",\"version\",\"type\",\"uri\",\"reference\", \"description\",\"content_id\"]\n",
    "\n",
    "for model in model_list_GET_call():\n",
    "    content_data = {}\n",
    "    for key, value in model.items():\n",
    "        if key in keys:\n",
    "            content_data[key] = value\n",
    "    # does not support list as dict value and [_id], as it's been used for elasticsearch\n",
    "    es.index(index = 'model', id = content_data['content_id'], document = content_data)"
   ]
  },
  {
   "cell_type": "code",
   "execution_count": 26,
   "metadata": {},
   "outputs": [],
   "source": [
    "url_head = 'http://localhost:8000/api/v0/'\n",
    "catagory = ['models', 'apps', 'workflows']"
   ]
  },
  {
   "cell_type": "code",
   "execution_count": 27,
   "metadata": {},
   "outputs": [
    {
     "name": "stdout",
     "output_type": "stream",
     "text": [
      "http://localhost:8000/api/v0/models\n",
      "http://localhost:8000/api/v0/apps\n",
      "http://localhost:8000/api/v0/workflows\n"
     ]
    }
   ],
   "source": [
    "for item in catagory:\n",
    "    url = url_head + item\n",
    "    print(url)"
   ]
  },
  {
   "cell_type": "code",
   "execution_count": 29,
   "metadata": {},
   "outputs": [
    {
     "name": "stdout",
     "output_type": "stream",
     "text": [
      "model\n",
      "9be3d982-b6cd-4403-8373-c0e66f2eb98a\n",
      "{'content_type': 'model', 'name': 'pytorch_autoencoder', 'version': '0.0.1', 'type': 'unsupervised', 'owner': 'mlexchange team', 'uri': 'mlexchange/unsupervised-classifier', 'application': ['data_clinic'], 'description': 'xxx', 'content_id': '9be3d982-b6cd-4403-8373-c0e66f2eb98a'}\n",
      "model\n",
      "a5e21579-c238-440a-8703-3f858e2ddbc3\n",
      "{'version': '1.0.0', 'type': 'unsupervised', 'uri': 'xxx', 'application': ['segmentation', 'clustering'], 'description': 'xxx', 'reference': 'Nicholas Schwartz & Howard Yanxon', 'content_type': 'model', 'content_id': 'a5e21579-c238-440a-8703-3f858e2ddbc3', 'name': 'kmeans', 'owner': 'mlexchange team'}\n",
      "model\n",
      "dd184a4d-beee-4f1c-9ce1-3b03a6eac160\n",
      "{'version': '1.0.0', 'type': 'supervised', 'uri': 'xxx', 'application': ['classification', 'segmentation'], 'description': 'xxx', 'reference': 'Peter Zwart & Eric Roberts', 'content_type': 'model', 'content_id': 'dd184a4d-beee-4f1c-9ce1-3b03a6eac160', 'name': 'pyMSDtorch', 'owner': 'mlexchange team'}\n",
      "model\n",
      "d68d176e-3c9e-4cb5-8d86-e775164c9dbd\n",
      "{'version': '1.0.0', 'type': 'supervised', 'uri': 'xxx', 'application': ['classification', 'segmentation'], 'description': 'xxx', 'reference': 'Adapted from Dash Plotly image segmentation example', 'content_type': 'model', 'content_id': 'd68d176e-3c9e-4cb5-8d86-e775164c9dbd', 'name': 'random_forest', 'owner': 'mlexchange team'}\n",
      "model\n",
      "37d9c5c0-a044-427d-b722-6ddef878f59b\n",
      "{'version': '1.0.0', 'type': 'supervised', 'uri': 'xxx', 'application': ['mlcoach'], 'description': 'xxx', 'reference': 'xxx', 'content_type': 'model', 'content_id': '37d9c5c0-a044-427d-b722-6ddef878f59b', 'name': 'Tensorflow-NN', 'owner': 'mlexchange team'}\n",
      "model\n",
      "1705cb31-f030-401f-8fbc-791eeec2c445\n",
      "{'version': '1.0.0', 'type': 'supervised', 'uri': 'xxx', 'application': ['mlcoach'], 'description': 'xxx', 'reference': 'xxx', 'content_id': '1705cb31-f030-401f-8fbc-791eeec2c445', 'content_type': 'model', 'name': 'TF-NeutralNetworks', 'owner': 'mlexchange team'}\n",
      "model\n",
      "d39d5efc-aa47-4821-a145-b594df677e9d\n",
      "{'version': '1.0.0', 'type': 'supervised', 'uri': 'xxx', 'application': ['image segmentation'], 'description': 'xxx', 'reference': 'pyMSDtorch, Peter Zwart & Eric Roberts', 'content_type': 'model', 'content_id': 'd39d5efc-aa47-4821-a145-b594df677e9d', 'name': 'TUNet', 'owner': 'mlexchange team'}\n",
      "app\n",
      "4fe35a4b-32d3-4bd5-b7e7-ddbc96b190d9\n",
      "{'content_type': 'app', 'name': 'labelmaker', 'version': '1.0.0', 'owner': 'mlexchange team', 'uri': 'xxx', 'application': [], 'description': 'xxx', 'content_id': '4fe35a4b-32d3-4bd5-b7e7-ddbc96b190d9'}\n",
      "app\n",
      "90597d46-82db-406e-aa16-74788dd50bd7\n",
      "{'content_type': 'app', 'name': 'seg-demo', 'version': '1.0.0', 'owner': 'mlexchange team', 'uri': 'xxx', 'application': [], 'description': 'xxx', 'content_id': '90597d46-82db-406e-aa16-74788dd50bd7'}\n",
      "workflow\n",
      "ad5e2cd0-ac88-4c31-bc05-65dbd4ca3cd9\n",
      "{'content_type': 'workflow', 'name': 'Image Labeling', 'version': '1.0.0', 'owner': 'mlexchange team', 'uri': 'xxx', 'application': [], 'description': 'xxx', 'content_id': 'ad5e2cd0-ac88-4c31-bc05-65dbd4ca3cd9'}\n"
     ]
    }
   ],
   "source": [
    "keys = [\"name\", \"version\", \"type\", \"uri\", \"application\", \"reference\", \"description\", \"content_type\", \"content_id\", \"owner\"]\n",
    "\n",
    "url_head = 'http://localhost:8000/api/v0/'\n",
    "catagory = ['models', 'apps', 'workflows']\n",
    "\n",
    "for item in catagory:\n",
    "    url = url_head + item\n",
    "\n",
    "    for model in model_list_GET_call(url):\n",
    "        \n",
    "        content_data = {}\n",
    "        for key, value in model.items():\n",
    "            if key in keys:\n",
    "                content_data[key] = value\n",
    "        print(content_data['content_type'])\n",
    "        print(content_data['content_id'])        \n",
    "        print(content_data)\n",
    "\n"
   ]
  },
  {
   "cell_type": "code",
   "execution_count": 10,
   "metadata": {},
   "outputs": [],
   "source": [
    "# Insert docs\n",
    "for key, values in database.items():\n",
    "    for item in values:\n",
    "        flag = True\n",
    "        try: \n",
    "            record = es.get(index = key, id = item['uid'])\n",
    "        except Exception as e:\n",
    "            flag = False\n",
    "            print('uid: ' + item['uid'] + ' not exists, inserting ...') \n",
    "        \n",
    "        if not flag:\n",
    "            es.index(index = key, id = item['uid'], document = item)"
   ]
  },
  {
   "cell_type": "markdown",
   "metadata": {},
   "source": [
    "# FastAPI Callback List\n"
   ]
  },
  {
   "cell_type": "markdown",
   "metadata": {},
   "source": [
    "## Search doc based on index\n",
    "\n",
    "HTTP GET\n",
    "\n",
    "URI: ‘/search-doc/{index}/{field}’\n",
    "\n",
    "Def search_doc(index: Optional[str], field: str)\n",
    "\n",
    "Description: Search the doc information based on input index and field\n",
    "\n",
    "Return: `{index} : {field}`\n"
   ]
  },
  {
   "cell_type": "code",
   "execution_count": 7,
   "metadata": {},
   "outputs": [],
   "source": [
    "def search(keyword: str):\n",
    "    '''\n",
    "    Search the doc information based on input name.\n",
    "    To do: add sort for ordered display\n",
    "    '''\n",
    "    resp = Search().using(es).query(\"multi_match\", query = keyword, fuzziness = \"AUTO\").extra(track_total_hits = True).execute()\n",
    "    result = resp.to_dict()\n",
    "    #print('Total %d hits found: ' % resp.hits.total.value)\n",
    "    return ['Total %d hits found: ' % resp.hits.total.value, resp]\n",
    "    #for hit in resp:\n",
    "    #    print('Category: ' + hit.meta.index, hit)\n"
   ]
  },
  {
   "cell_type": "code",
   "execution_count": 8,
   "metadata": {},
   "outputs": [
    {
     "ename": "ConnectionError",
     "evalue": "ConnectionError(<urllib3.connection.HTTPSConnection object at 0x7fca608eb820>: Failed to establish a new connection: [Errno 8] nodename nor servname provided, or not known) caused by: NewConnectionError(<urllib3.connection.HTTPSConnection object at 0x7fca608eb820>: Failed to establish a new connection: [Errno 8] nodename nor servname provided, or not known)",
     "output_type": "error",
     "traceback": [
      "\u001b[0;31m---------------------------------------------------------------------------\u001b[0m",
      "\u001b[0;31mgaierror\u001b[0m                                  Traceback (most recent call last)",
      "File \u001b[0;32m/opt/anaconda3/envs/elasticsearch/lib/python3.10/site-packages/urllib3/connection.py:174\u001b[0m, in \u001b[0;36mHTTPConnection._new_conn\u001b[0;34m(self)\u001b[0m\n\u001b[1;32m    <a href='file:///opt/anaconda3/envs/elasticsearch/lib/python3.10/site-packages/urllib3/connection.py?line=172'>173</a>\u001b[0m \u001b[39mtry\u001b[39;00m:\n\u001b[0;32m--> <a href='file:///opt/anaconda3/envs/elasticsearch/lib/python3.10/site-packages/urllib3/connection.py?line=173'>174</a>\u001b[0m     conn \u001b[39m=\u001b[39m connection\u001b[39m.\u001b[39;49mcreate_connection(\n\u001b[1;32m    <a href='file:///opt/anaconda3/envs/elasticsearch/lib/python3.10/site-packages/urllib3/connection.py?line=174'>175</a>\u001b[0m         (\u001b[39mself\u001b[39;49m\u001b[39m.\u001b[39;49m_dns_host, \u001b[39mself\u001b[39;49m\u001b[39m.\u001b[39;49mport), \u001b[39mself\u001b[39;49m\u001b[39m.\u001b[39;49mtimeout, \u001b[39m*\u001b[39;49m\u001b[39m*\u001b[39;49mextra_kw\n\u001b[1;32m    <a href='file:///opt/anaconda3/envs/elasticsearch/lib/python3.10/site-packages/urllib3/connection.py?line=175'>176</a>\u001b[0m     )\n\u001b[1;32m    <a href='file:///opt/anaconda3/envs/elasticsearch/lib/python3.10/site-packages/urllib3/connection.py?line=177'>178</a>\u001b[0m \u001b[39mexcept\u001b[39;00m SocketTimeout:\n",
      "File \u001b[0;32m/opt/anaconda3/envs/elasticsearch/lib/python3.10/site-packages/urllib3/util/connection.py:72\u001b[0m, in \u001b[0;36mcreate_connection\u001b[0;34m(address, timeout, source_address, socket_options)\u001b[0m\n\u001b[1;32m     <a href='file:///opt/anaconda3/envs/elasticsearch/lib/python3.10/site-packages/urllib3/util/connection.py?line=67'>68</a>\u001b[0m     \u001b[39mreturn\u001b[39;00m six\u001b[39m.\u001b[39mraise_from(\n\u001b[1;32m     <a href='file:///opt/anaconda3/envs/elasticsearch/lib/python3.10/site-packages/urllib3/util/connection.py?line=68'>69</a>\u001b[0m         LocationParseError(\u001b[39mu\u001b[39m\u001b[39m\"\u001b[39m\u001b[39m'\u001b[39m\u001b[39m%s\u001b[39;00m\u001b[39m'\u001b[39m\u001b[39m, label empty or too long\u001b[39m\u001b[39m\"\u001b[39m \u001b[39m%\u001b[39m host), \u001b[39mNone\u001b[39;00m\n\u001b[1;32m     <a href='file:///opt/anaconda3/envs/elasticsearch/lib/python3.10/site-packages/urllib3/util/connection.py?line=69'>70</a>\u001b[0m     )\n\u001b[0;32m---> <a href='file:///opt/anaconda3/envs/elasticsearch/lib/python3.10/site-packages/urllib3/util/connection.py?line=71'>72</a>\u001b[0m \u001b[39mfor\u001b[39;00m res \u001b[39min\u001b[39;00m socket\u001b[39m.\u001b[39;49mgetaddrinfo(host, port, family, socket\u001b[39m.\u001b[39;49mSOCK_STREAM):\n\u001b[1;32m     <a href='file:///opt/anaconda3/envs/elasticsearch/lib/python3.10/site-packages/urllib3/util/connection.py?line=72'>73</a>\u001b[0m     af, socktype, proto, canonname, sa \u001b[39m=\u001b[39m res\n",
      "File \u001b[0;32m/opt/anaconda3/envs/elasticsearch/lib/python3.10/socket.py:955\u001b[0m, in \u001b[0;36mgetaddrinfo\u001b[0;34m(host, port, family, type, proto, flags)\u001b[0m\n\u001b[1;32m    <a href='file:///opt/anaconda3/envs/elasticsearch/lib/python3.10/socket.py?line=953'>954</a>\u001b[0m addrlist \u001b[39m=\u001b[39m []\n\u001b[0;32m--> <a href='file:///opt/anaconda3/envs/elasticsearch/lib/python3.10/socket.py?line=954'>955</a>\u001b[0m \u001b[39mfor\u001b[39;00m res \u001b[39min\u001b[39;00m _socket\u001b[39m.\u001b[39;49mgetaddrinfo(host, port, family, \u001b[39mtype\u001b[39;49m, proto, flags):\n\u001b[1;32m    <a href='file:///opt/anaconda3/envs/elasticsearch/lib/python3.10/socket.py?line=955'>956</a>\u001b[0m     af, socktype, proto, canonname, sa \u001b[39m=\u001b[39m res\n",
      "\u001b[0;31mgaierror\u001b[0m: [Errno 8] nodename nor servname provided, or not known",
      "\nDuring handling of the above exception, another exception occurred:\n",
      "\u001b[0;31mNewConnectionError\u001b[0m                        Traceback (most recent call last)",
      "File \u001b[0;32m/opt/anaconda3/envs/elasticsearch/lib/python3.10/site-packages/elasticsearch/connection/http_urllib3.py:255\u001b[0m, in \u001b[0;36mUrllib3HttpConnection.perform_request\u001b[0;34m(self, method, url, params, body, timeout, ignore, headers)\u001b[0m\n\u001b[1;32m    <a href='file:///opt/anaconda3/envs/elasticsearch/lib/python3.10/site-packages/elasticsearch/connection/http_urllib3.py?line=252'>253</a>\u001b[0m     request_headers[\u001b[39m\"\u001b[39m\u001b[39mcontent-encoding\u001b[39m\u001b[39m\"\u001b[39m] \u001b[39m=\u001b[39m \u001b[39m\"\u001b[39m\u001b[39mgzip\u001b[39m\u001b[39m\"\u001b[39m\n\u001b[0;32m--> <a href='file:///opt/anaconda3/envs/elasticsearch/lib/python3.10/site-packages/elasticsearch/connection/http_urllib3.py?line=254'>255</a>\u001b[0m response \u001b[39m=\u001b[39m \u001b[39mself\u001b[39;49m\u001b[39m.\u001b[39;49mpool\u001b[39m.\u001b[39;49murlopen(\n\u001b[1;32m    <a href='file:///opt/anaconda3/envs/elasticsearch/lib/python3.10/site-packages/elasticsearch/connection/http_urllib3.py?line=255'>256</a>\u001b[0m     method, url, body, retries\u001b[39m=\u001b[39;49mRetry(\u001b[39mFalse\u001b[39;49;00m), headers\u001b[39m=\u001b[39;49mrequest_headers, \u001b[39m*\u001b[39;49m\u001b[39m*\u001b[39;49mkw\n\u001b[1;32m    <a href='file:///opt/anaconda3/envs/elasticsearch/lib/python3.10/site-packages/elasticsearch/connection/http_urllib3.py?line=256'>257</a>\u001b[0m )\n\u001b[1;32m    <a href='file:///opt/anaconda3/envs/elasticsearch/lib/python3.10/site-packages/elasticsearch/connection/http_urllib3.py?line=257'>258</a>\u001b[0m response_headers \u001b[39m=\u001b[39m {\n\u001b[1;32m    <a href='file:///opt/anaconda3/envs/elasticsearch/lib/python3.10/site-packages/elasticsearch/connection/http_urllib3.py?line=258'>259</a>\u001b[0m     header\u001b[39m.\u001b[39mlower(): value \u001b[39mfor\u001b[39;00m header, value \u001b[39min\u001b[39;00m response\u001b[39m.\u001b[39mheaders\u001b[39m.\u001b[39mitems()\n\u001b[1;32m    <a href='file:///opt/anaconda3/envs/elasticsearch/lib/python3.10/site-packages/elasticsearch/connection/http_urllib3.py?line=259'>260</a>\u001b[0m }\n",
      "File \u001b[0;32m/opt/anaconda3/envs/elasticsearch/lib/python3.10/site-packages/urllib3/connectionpool.py:785\u001b[0m, in \u001b[0;36mHTTPConnectionPool.urlopen\u001b[0;34m(self, method, url, body, headers, retries, redirect, assert_same_host, timeout, pool_timeout, release_conn, chunked, body_pos, **response_kw)\u001b[0m\n\u001b[1;32m    <a href='file:///opt/anaconda3/envs/elasticsearch/lib/python3.10/site-packages/urllib3/connectionpool.py?line=782'>783</a>\u001b[0m     e \u001b[39m=\u001b[39m ProtocolError(\u001b[39m\"\u001b[39m\u001b[39mConnection aborted.\u001b[39m\u001b[39m\"\u001b[39m, e)\n\u001b[0;32m--> <a href='file:///opt/anaconda3/envs/elasticsearch/lib/python3.10/site-packages/urllib3/connectionpool.py?line=784'>785</a>\u001b[0m retries \u001b[39m=\u001b[39m retries\u001b[39m.\u001b[39;49mincrement(\n\u001b[1;32m    <a href='file:///opt/anaconda3/envs/elasticsearch/lib/python3.10/site-packages/urllib3/connectionpool.py?line=785'>786</a>\u001b[0m     method, url, error\u001b[39m=\u001b[39;49me, _pool\u001b[39m=\u001b[39;49m\u001b[39mself\u001b[39;49m, _stacktrace\u001b[39m=\u001b[39;49msys\u001b[39m.\u001b[39;49mexc_info()[\u001b[39m2\u001b[39;49m]\n\u001b[1;32m    <a href='file:///opt/anaconda3/envs/elasticsearch/lib/python3.10/site-packages/urllib3/connectionpool.py?line=786'>787</a>\u001b[0m )\n\u001b[1;32m    <a href='file:///opt/anaconda3/envs/elasticsearch/lib/python3.10/site-packages/urllib3/connectionpool.py?line=787'>788</a>\u001b[0m retries\u001b[39m.\u001b[39msleep()\n",
      "File \u001b[0;32m/opt/anaconda3/envs/elasticsearch/lib/python3.10/site-packages/urllib3/util/retry.py:525\u001b[0m, in \u001b[0;36mRetry.increment\u001b[0;34m(self, method, url, response, error, _pool, _stacktrace)\u001b[0m\n\u001b[1;32m    <a href='file:///opt/anaconda3/envs/elasticsearch/lib/python3.10/site-packages/urllib3/util/retry.py?line=522'>523</a>\u001b[0m \u001b[39mif\u001b[39;00m \u001b[39mself\u001b[39m\u001b[39m.\u001b[39mtotal \u001b[39mis\u001b[39;00m \u001b[39mFalse\u001b[39;00m \u001b[39mand\u001b[39;00m error:\n\u001b[1;32m    <a href='file:///opt/anaconda3/envs/elasticsearch/lib/python3.10/site-packages/urllib3/util/retry.py?line=523'>524</a>\u001b[0m     \u001b[39m# Disabled, indicate to re-raise the error.\u001b[39;00m\n\u001b[0;32m--> <a href='file:///opt/anaconda3/envs/elasticsearch/lib/python3.10/site-packages/urllib3/util/retry.py?line=524'>525</a>\u001b[0m     \u001b[39mraise\u001b[39;00m six\u001b[39m.\u001b[39;49mreraise(\u001b[39mtype\u001b[39;49m(error), error, _stacktrace)\n\u001b[1;32m    <a href='file:///opt/anaconda3/envs/elasticsearch/lib/python3.10/site-packages/urllib3/util/retry.py?line=526'>527</a>\u001b[0m total \u001b[39m=\u001b[39m \u001b[39mself\u001b[39m\u001b[39m.\u001b[39mtotal\n",
      "File \u001b[0;32m/opt/anaconda3/envs/elasticsearch/lib/python3.10/site-packages/urllib3/packages/six.py:770\u001b[0m, in \u001b[0;36mreraise\u001b[0;34m(tp, value, tb)\u001b[0m\n\u001b[1;32m    <a href='file:///opt/anaconda3/envs/elasticsearch/lib/python3.10/site-packages/urllib3/packages/six.py?line=768'>769</a>\u001b[0m         \u001b[39mraise\u001b[39;00m value\u001b[39m.\u001b[39mwith_traceback(tb)\n\u001b[0;32m--> <a href='file:///opt/anaconda3/envs/elasticsearch/lib/python3.10/site-packages/urllib3/packages/six.py?line=769'>770</a>\u001b[0m     \u001b[39mraise\u001b[39;00m value\n\u001b[1;32m    <a href='file:///opt/anaconda3/envs/elasticsearch/lib/python3.10/site-packages/urllib3/packages/six.py?line=770'>771</a>\u001b[0m \u001b[39mfinally\u001b[39;00m:\n",
      "File \u001b[0;32m/opt/anaconda3/envs/elasticsearch/lib/python3.10/site-packages/urllib3/connectionpool.py:703\u001b[0m, in \u001b[0;36mHTTPConnectionPool.urlopen\u001b[0;34m(self, method, url, body, headers, retries, redirect, assert_same_host, timeout, pool_timeout, release_conn, chunked, body_pos, **response_kw)\u001b[0m\n\u001b[1;32m    <a href='file:///opt/anaconda3/envs/elasticsearch/lib/python3.10/site-packages/urllib3/connectionpool.py?line=701'>702</a>\u001b[0m \u001b[39m# Make the request on the httplib connection object.\u001b[39;00m\n\u001b[0;32m--> <a href='file:///opt/anaconda3/envs/elasticsearch/lib/python3.10/site-packages/urllib3/connectionpool.py?line=702'>703</a>\u001b[0m httplib_response \u001b[39m=\u001b[39m \u001b[39mself\u001b[39;49m\u001b[39m.\u001b[39;49m_make_request(\n\u001b[1;32m    <a href='file:///opt/anaconda3/envs/elasticsearch/lib/python3.10/site-packages/urllib3/connectionpool.py?line=703'>704</a>\u001b[0m     conn,\n\u001b[1;32m    <a href='file:///opt/anaconda3/envs/elasticsearch/lib/python3.10/site-packages/urllib3/connectionpool.py?line=704'>705</a>\u001b[0m     method,\n\u001b[1;32m    <a href='file:///opt/anaconda3/envs/elasticsearch/lib/python3.10/site-packages/urllib3/connectionpool.py?line=705'>706</a>\u001b[0m     url,\n\u001b[1;32m    <a href='file:///opt/anaconda3/envs/elasticsearch/lib/python3.10/site-packages/urllib3/connectionpool.py?line=706'>707</a>\u001b[0m     timeout\u001b[39m=\u001b[39;49mtimeout_obj,\n\u001b[1;32m    <a href='file:///opt/anaconda3/envs/elasticsearch/lib/python3.10/site-packages/urllib3/connectionpool.py?line=707'>708</a>\u001b[0m     body\u001b[39m=\u001b[39;49mbody,\n\u001b[1;32m    <a href='file:///opt/anaconda3/envs/elasticsearch/lib/python3.10/site-packages/urllib3/connectionpool.py?line=708'>709</a>\u001b[0m     headers\u001b[39m=\u001b[39;49mheaders,\n\u001b[1;32m    <a href='file:///opt/anaconda3/envs/elasticsearch/lib/python3.10/site-packages/urllib3/connectionpool.py?line=709'>710</a>\u001b[0m     chunked\u001b[39m=\u001b[39;49mchunked,\n\u001b[1;32m    <a href='file:///opt/anaconda3/envs/elasticsearch/lib/python3.10/site-packages/urllib3/connectionpool.py?line=710'>711</a>\u001b[0m )\n\u001b[1;32m    <a href='file:///opt/anaconda3/envs/elasticsearch/lib/python3.10/site-packages/urllib3/connectionpool.py?line=712'>713</a>\u001b[0m \u001b[39m# If we're going to release the connection in ``finally:``, then\u001b[39;00m\n\u001b[1;32m    <a href='file:///opt/anaconda3/envs/elasticsearch/lib/python3.10/site-packages/urllib3/connectionpool.py?line=713'>714</a>\u001b[0m \u001b[39m# the response doesn't need to know about the connection. Otherwise\u001b[39;00m\n\u001b[1;32m    <a href='file:///opt/anaconda3/envs/elasticsearch/lib/python3.10/site-packages/urllib3/connectionpool.py?line=714'>715</a>\u001b[0m \u001b[39m# it will also try to release it and we'll have a double-release\u001b[39;00m\n\u001b[1;32m    <a href='file:///opt/anaconda3/envs/elasticsearch/lib/python3.10/site-packages/urllib3/connectionpool.py?line=715'>716</a>\u001b[0m \u001b[39m# mess.\u001b[39;00m\n",
      "File \u001b[0;32m/opt/anaconda3/envs/elasticsearch/lib/python3.10/site-packages/urllib3/connectionpool.py:386\u001b[0m, in \u001b[0;36mHTTPConnectionPool._make_request\u001b[0;34m(self, conn, method, url, timeout, chunked, **httplib_request_kw)\u001b[0m\n\u001b[1;32m    <a href='file:///opt/anaconda3/envs/elasticsearch/lib/python3.10/site-packages/urllib3/connectionpool.py?line=384'>385</a>\u001b[0m \u001b[39mtry\u001b[39;00m:\n\u001b[0;32m--> <a href='file:///opt/anaconda3/envs/elasticsearch/lib/python3.10/site-packages/urllib3/connectionpool.py?line=385'>386</a>\u001b[0m     \u001b[39mself\u001b[39;49m\u001b[39m.\u001b[39;49m_validate_conn(conn)\n\u001b[1;32m    <a href='file:///opt/anaconda3/envs/elasticsearch/lib/python3.10/site-packages/urllib3/connectionpool.py?line=386'>387</a>\u001b[0m \u001b[39mexcept\u001b[39;00m (SocketTimeout, BaseSSLError) \u001b[39mas\u001b[39;00m e:\n\u001b[1;32m    <a href='file:///opt/anaconda3/envs/elasticsearch/lib/python3.10/site-packages/urllib3/connectionpool.py?line=387'>388</a>\u001b[0m     \u001b[39m# Py2 raises this as a BaseSSLError, Py3 raises it as socket timeout.\u001b[39;00m\n",
      "File \u001b[0;32m/opt/anaconda3/envs/elasticsearch/lib/python3.10/site-packages/urllib3/connectionpool.py:1040\u001b[0m, in \u001b[0;36mHTTPSConnectionPool._validate_conn\u001b[0;34m(self, conn)\u001b[0m\n\u001b[1;32m   <a href='file:///opt/anaconda3/envs/elasticsearch/lib/python3.10/site-packages/urllib3/connectionpool.py?line=1038'>1039</a>\u001b[0m \u001b[39mif\u001b[39;00m \u001b[39mnot\u001b[39;00m \u001b[39mgetattr\u001b[39m(conn, \u001b[39m\"\u001b[39m\u001b[39msock\u001b[39m\u001b[39m\"\u001b[39m, \u001b[39mNone\u001b[39;00m):  \u001b[39m# AppEngine might not have  `.sock`\u001b[39;00m\n\u001b[0;32m-> <a href='file:///opt/anaconda3/envs/elasticsearch/lib/python3.10/site-packages/urllib3/connectionpool.py?line=1039'>1040</a>\u001b[0m     conn\u001b[39m.\u001b[39;49mconnect()\n\u001b[1;32m   <a href='file:///opt/anaconda3/envs/elasticsearch/lib/python3.10/site-packages/urllib3/connectionpool.py?line=1041'>1042</a>\u001b[0m \u001b[39mif\u001b[39;00m \u001b[39mnot\u001b[39;00m conn\u001b[39m.\u001b[39mis_verified:\n",
      "File \u001b[0;32m/opt/anaconda3/envs/elasticsearch/lib/python3.10/site-packages/urllib3/connection.py:358\u001b[0m, in \u001b[0;36mHTTPSConnection.connect\u001b[0;34m(self)\u001b[0m\n\u001b[1;32m    <a href='file:///opt/anaconda3/envs/elasticsearch/lib/python3.10/site-packages/urllib3/connection.py?line=355'>356</a>\u001b[0m \u001b[39mdef\u001b[39;00m \u001b[39mconnect\u001b[39m(\u001b[39mself\u001b[39m):\n\u001b[1;32m    <a href='file:///opt/anaconda3/envs/elasticsearch/lib/python3.10/site-packages/urllib3/connection.py?line=356'>357</a>\u001b[0m     \u001b[39m# Add certificate verification\u001b[39;00m\n\u001b[0;32m--> <a href='file:///opt/anaconda3/envs/elasticsearch/lib/python3.10/site-packages/urllib3/connection.py?line=357'>358</a>\u001b[0m     conn \u001b[39m=\u001b[39m \u001b[39mself\u001b[39;49m\u001b[39m.\u001b[39;49m_new_conn()\n\u001b[1;32m    <a href='file:///opt/anaconda3/envs/elasticsearch/lib/python3.10/site-packages/urllib3/connection.py?line=358'>359</a>\u001b[0m     hostname \u001b[39m=\u001b[39m \u001b[39mself\u001b[39m\u001b[39m.\u001b[39mhost\n",
      "File \u001b[0;32m/opt/anaconda3/envs/elasticsearch/lib/python3.10/site-packages/urllib3/connection.py:186\u001b[0m, in \u001b[0;36mHTTPConnection._new_conn\u001b[0;34m(self)\u001b[0m\n\u001b[1;32m    <a href='file:///opt/anaconda3/envs/elasticsearch/lib/python3.10/site-packages/urllib3/connection.py?line=184'>185</a>\u001b[0m \u001b[39mexcept\u001b[39;00m SocketError \u001b[39mas\u001b[39;00m e:\n\u001b[0;32m--> <a href='file:///opt/anaconda3/envs/elasticsearch/lib/python3.10/site-packages/urllib3/connection.py?line=185'>186</a>\u001b[0m     \u001b[39mraise\u001b[39;00m NewConnectionError(\n\u001b[1;32m    <a href='file:///opt/anaconda3/envs/elasticsearch/lib/python3.10/site-packages/urllib3/connection.py?line=186'>187</a>\u001b[0m         \u001b[39mself\u001b[39m, \u001b[39m\"\u001b[39m\u001b[39mFailed to establish a new connection: \u001b[39m\u001b[39m%s\u001b[39;00m\u001b[39m\"\u001b[39m \u001b[39m%\u001b[39m e\n\u001b[1;32m    <a href='file:///opt/anaconda3/envs/elasticsearch/lib/python3.10/site-packages/urllib3/connection.py?line=187'>188</a>\u001b[0m     )\n\u001b[1;32m    <a href='file:///opt/anaconda3/envs/elasticsearch/lib/python3.10/site-packages/urllib3/connection.py?line=189'>190</a>\u001b[0m \u001b[39mreturn\u001b[39;00m conn\n",
      "\u001b[0;31mNewConnectionError\u001b[0m: <urllib3.connection.HTTPSConnection object at 0x7fca608eb820>: Failed to establish a new connection: [Errno 8] nodename nor servname provided, or not known",
      "\nDuring handling of the above exception, another exception occurred:\n",
      "\u001b[0;31mConnectionError\u001b[0m                           Traceback (most recent call last)",
      "\u001b[1;32m/Users/tibbers/MLExchange/mlex_search_api/Misc/test.ipynb Cell 16'\u001b[0m in \u001b[0;36m<cell line: 1>\u001b[0;34m()\u001b[0m\n\u001b[0;32m----> <a href='vscode-notebook-cell:/Users/tibbers/MLExchange/mlex_search_api/Misc/test.ipynb#ch0000015?line=0'>1</a>\u001b[0m search(\u001b[39m'\u001b[39;49m\u001b[39munsupervised\u001b[39;49m\u001b[39m'\u001b[39;49m)\n",
      "\u001b[1;32m/Users/tibbers/MLExchange/mlex_search_api/Misc/test.ipynb Cell 15'\u001b[0m in \u001b[0;36msearch\u001b[0;34m(keyword)\u001b[0m\n\u001b[1;32m      <a href='vscode-notebook-cell:/Users/tibbers/MLExchange/mlex_search_api/Misc/test.ipynb#ch0000014?line=0'>1</a>\u001b[0m \u001b[39mdef\u001b[39;00m \u001b[39msearch\u001b[39m(keyword: \u001b[39mstr\u001b[39m):\n\u001b[1;32m      <a href='vscode-notebook-cell:/Users/tibbers/MLExchange/mlex_search_api/Misc/test.ipynb#ch0000014?line=1'>2</a>\u001b[0m     \u001b[39m'''\u001b[39;00m\n\u001b[1;32m      <a href='vscode-notebook-cell:/Users/tibbers/MLExchange/mlex_search_api/Misc/test.ipynb#ch0000014?line=2'>3</a>\u001b[0m \u001b[39m    Search the doc information based on input name.\u001b[39;00m\n\u001b[1;32m      <a href='vscode-notebook-cell:/Users/tibbers/MLExchange/mlex_search_api/Misc/test.ipynb#ch0000014?line=3'>4</a>\u001b[0m \u001b[39m    To do: add sort for ordered display\u001b[39;00m\n\u001b[1;32m      <a href='vscode-notebook-cell:/Users/tibbers/MLExchange/mlex_search_api/Misc/test.ipynb#ch0000014?line=4'>5</a>\u001b[0m \u001b[39m    '''\u001b[39;00m\n\u001b[0;32m----> <a href='vscode-notebook-cell:/Users/tibbers/MLExchange/mlex_search_api/Misc/test.ipynb#ch0000014?line=5'>6</a>\u001b[0m     resp \u001b[39m=\u001b[39m Search()\u001b[39m.\u001b[39;49musing(es)\u001b[39m.\u001b[39;49mquery(\u001b[39m\"\u001b[39;49m\u001b[39mmulti_match\u001b[39;49m\u001b[39m\"\u001b[39;49m, query \u001b[39m=\u001b[39;49m keyword, fuzziness \u001b[39m=\u001b[39;49m \u001b[39m\"\u001b[39;49m\u001b[39mAUTO\u001b[39;49m\u001b[39m\"\u001b[39;49m)\u001b[39m.\u001b[39;49mextra(track_total_hits \u001b[39m=\u001b[39;49m \u001b[39mTrue\u001b[39;49;00m)\u001b[39m.\u001b[39;49mexecute()\n\u001b[1;32m      <a href='vscode-notebook-cell:/Users/tibbers/MLExchange/mlex_search_api/Misc/test.ipynb#ch0000014?line=6'>7</a>\u001b[0m     result \u001b[39m=\u001b[39m resp\u001b[39m.\u001b[39mto_dict()\n\u001b[1;32m      <a href='vscode-notebook-cell:/Users/tibbers/MLExchange/mlex_search_api/Misc/test.ipynb#ch0000014?line=7'>8</a>\u001b[0m     \u001b[39m#print('Total %d hits found: ' % resp.hits.total.value)\u001b[39;00m\n",
      "File \u001b[0;32m/opt/anaconda3/envs/elasticsearch/lib/python3.10/site-packages/elasticsearch_dsl/search.py:715\u001b[0m, in \u001b[0;36mSearch.execute\u001b[0;34m(self, ignore_cache)\u001b[0m\n\u001b[1;32m    <a href='file:///opt/anaconda3/envs/elasticsearch/lib/python3.10/site-packages/elasticsearch_dsl/search.py?line=710'>711</a>\u001b[0m \u001b[39mif\u001b[39;00m ignore_cache \u001b[39mor\u001b[39;00m \u001b[39mnot\u001b[39;00m \u001b[39mhasattr\u001b[39m(\u001b[39mself\u001b[39m, \u001b[39m\"\u001b[39m\u001b[39m_response\u001b[39m\u001b[39m\"\u001b[39m):\n\u001b[1;32m    <a href='file:///opt/anaconda3/envs/elasticsearch/lib/python3.10/site-packages/elasticsearch_dsl/search.py?line=711'>712</a>\u001b[0m     es \u001b[39m=\u001b[39m get_connection(\u001b[39mself\u001b[39m\u001b[39m.\u001b[39m_using)\n\u001b[1;32m    <a href='file:///opt/anaconda3/envs/elasticsearch/lib/python3.10/site-packages/elasticsearch_dsl/search.py?line=713'>714</a>\u001b[0m     \u001b[39mself\u001b[39m\u001b[39m.\u001b[39m_response \u001b[39m=\u001b[39m \u001b[39mself\u001b[39m\u001b[39m.\u001b[39m_response_class(\n\u001b[0;32m--> <a href='file:///opt/anaconda3/envs/elasticsearch/lib/python3.10/site-packages/elasticsearch_dsl/search.py?line=714'>715</a>\u001b[0m         \u001b[39mself\u001b[39m, es\u001b[39m.\u001b[39;49msearch(index\u001b[39m=\u001b[39;49m\u001b[39mself\u001b[39;49m\u001b[39m.\u001b[39;49m_index, body\u001b[39m=\u001b[39;49m\u001b[39mself\u001b[39;49m\u001b[39m.\u001b[39;49mto_dict(), \u001b[39m*\u001b[39;49m\u001b[39m*\u001b[39;49m\u001b[39mself\u001b[39;49m\u001b[39m.\u001b[39;49m_params)\n\u001b[1;32m    <a href='file:///opt/anaconda3/envs/elasticsearch/lib/python3.10/site-packages/elasticsearch_dsl/search.py?line=715'>716</a>\u001b[0m     )\n\u001b[1;32m    <a href='file:///opt/anaconda3/envs/elasticsearch/lib/python3.10/site-packages/elasticsearch_dsl/search.py?line=716'>717</a>\u001b[0m \u001b[39mreturn\u001b[39;00m \u001b[39mself\u001b[39m\u001b[39m.\u001b[39m_response\n",
      "File \u001b[0;32m/opt/anaconda3/envs/elasticsearch/lib/python3.10/site-packages/elasticsearch/client/utils.py:347\u001b[0m, in \u001b[0;36mquery_params.<locals>._wrapper.<locals>._wrapped\u001b[0;34m(*args, **kwargs)\u001b[0m\n\u001b[1;32m    <a href='file:///opt/anaconda3/envs/elasticsearch/lib/python3.10/site-packages/elasticsearch/client/utils.py?line=344'>345</a>\u001b[0m     \u001b[39mif\u001b[39;00m p \u001b[39min\u001b[39;00m kwargs:\n\u001b[1;32m    <a href='file:///opt/anaconda3/envs/elasticsearch/lib/python3.10/site-packages/elasticsearch/client/utils.py?line=345'>346</a>\u001b[0m         params[p] \u001b[39m=\u001b[39m kwargs\u001b[39m.\u001b[39mpop(p)\n\u001b[0;32m--> <a href='file:///opt/anaconda3/envs/elasticsearch/lib/python3.10/site-packages/elasticsearch/client/utils.py?line=346'>347</a>\u001b[0m \u001b[39mreturn\u001b[39;00m func(\u001b[39m*\u001b[39;49margs, params\u001b[39m=\u001b[39;49mparams, headers\u001b[39m=\u001b[39;49mheaders, \u001b[39m*\u001b[39;49m\u001b[39m*\u001b[39;49mkwargs)\n",
      "File \u001b[0;32m/opt/anaconda3/envs/elasticsearch/lib/python3.10/site-packages/elasticsearch/client/__init__.py:1821\u001b[0m, in \u001b[0;36mElasticsearch.search\u001b[0;34m(self, body, index, doc_type, params, headers)\u001b[0m\n\u001b[1;32m   <a href='file:///opt/anaconda3/envs/elasticsearch/lib/python3.10/site-packages/elasticsearch/client/__init__.py?line=1817'>1818</a>\u001b[0m \u001b[39mif\u001b[39;00m \u001b[39m\"\u001b[39m\u001b[39mfrom_\u001b[39m\u001b[39m\"\u001b[39m \u001b[39min\u001b[39;00m params:\n\u001b[1;32m   <a href='file:///opt/anaconda3/envs/elasticsearch/lib/python3.10/site-packages/elasticsearch/client/__init__.py?line=1818'>1819</a>\u001b[0m     params[\u001b[39m\"\u001b[39m\u001b[39mfrom\u001b[39m\u001b[39m\"\u001b[39m] \u001b[39m=\u001b[39m params\u001b[39m.\u001b[39mpop(\u001b[39m\"\u001b[39m\u001b[39mfrom_\u001b[39m\u001b[39m\"\u001b[39m)\n\u001b[0;32m-> <a href='file:///opt/anaconda3/envs/elasticsearch/lib/python3.10/site-packages/elasticsearch/client/__init__.py?line=1820'>1821</a>\u001b[0m \u001b[39mreturn\u001b[39;00m \u001b[39mself\u001b[39;49m\u001b[39m.\u001b[39;49mtransport\u001b[39m.\u001b[39;49mperform_request(\n\u001b[1;32m   <a href='file:///opt/anaconda3/envs/elasticsearch/lib/python3.10/site-packages/elasticsearch/client/__init__.py?line=1821'>1822</a>\u001b[0m     \u001b[39m\"\u001b[39;49m\u001b[39mPOST\u001b[39;49m\u001b[39m\"\u001b[39;49m,\n\u001b[1;32m   <a href='file:///opt/anaconda3/envs/elasticsearch/lib/python3.10/site-packages/elasticsearch/client/__init__.py?line=1822'>1823</a>\u001b[0m     _make_path(index, doc_type, \u001b[39m\"\u001b[39;49m\u001b[39m_search\u001b[39;49m\u001b[39m\"\u001b[39;49m),\n\u001b[1;32m   <a href='file:///opt/anaconda3/envs/elasticsearch/lib/python3.10/site-packages/elasticsearch/client/__init__.py?line=1823'>1824</a>\u001b[0m     params\u001b[39m=\u001b[39;49mparams,\n\u001b[1;32m   <a href='file:///opt/anaconda3/envs/elasticsearch/lib/python3.10/site-packages/elasticsearch/client/__init__.py?line=1824'>1825</a>\u001b[0m     headers\u001b[39m=\u001b[39;49mheaders,\n\u001b[1;32m   <a href='file:///opt/anaconda3/envs/elasticsearch/lib/python3.10/site-packages/elasticsearch/client/__init__.py?line=1825'>1826</a>\u001b[0m     body\u001b[39m=\u001b[39;49mbody,\n\u001b[1;32m   <a href='file:///opt/anaconda3/envs/elasticsearch/lib/python3.10/site-packages/elasticsearch/client/__init__.py?line=1826'>1827</a>\u001b[0m )\n",
      "File \u001b[0;32m/opt/anaconda3/envs/elasticsearch/lib/python3.10/site-packages/elasticsearch/transport.py:417\u001b[0m, in \u001b[0;36mTransport.perform_request\u001b[0;34m(self, method, url, headers, params, body)\u001b[0m\n\u001b[1;32m    <a href='file:///opt/anaconda3/envs/elasticsearch/lib/python3.10/site-packages/elasticsearch/transport.py?line=414'>415</a>\u001b[0m \u001b[39m# Before we make the actual API call we verify the Elasticsearch instance.\u001b[39;00m\n\u001b[1;32m    <a href='file:///opt/anaconda3/envs/elasticsearch/lib/python3.10/site-packages/elasticsearch/transport.py?line=415'>416</a>\u001b[0m \u001b[39mif\u001b[39;00m \u001b[39mself\u001b[39m\u001b[39m.\u001b[39m_verified_elasticsearch \u001b[39mis\u001b[39;00m \u001b[39mNone\u001b[39;00m:\n\u001b[0;32m--> <a href='file:///opt/anaconda3/envs/elasticsearch/lib/python3.10/site-packages/elasticsearch/transport.py?line=416'>417</a>\u001b[0m     \u001b[39mself\u001b[39;49m\u001b[39m.\u001b[39;49m_do_verify_elasticsearch(headers\u001b[39m=\u001b[39;49mheaders, timeout\u001b[39m=\u001b[39;49mtimeout)\n\u001b[1;32m    <a href='file:///opt/anaconda3/envs/elasticsearch/lib/python3.10/site-packages/elasticsearch/transport.py?line=418'>419</a>\u001b[0m \u001b[39m# If '_verified_elasticsearch' isn't 'True' then we raise an error.\u001b[39;00m\n\u001b[1;32m    <a href='file:///opt/anaconda3/envs/elasticsearch/lib/python3.10/site-packages/elasticsearch/transport.py?line=419'>420</a>\u001b[0m \u001b[39mif\u001b[39;00m \u001b[39mself\u001b[39m\u001b[39m.\u001b[39m_verified_elasticsearch \u001b[39mis\u001b[39;00m \u001b[39mnot\u001b[39;00m \u001b[39mTrue\u001b[39;00m:\n",
      "File \u001b[0;32m/opt/anaconda3/envs/elasticsearch/lib/python3.10/site-packages/elasticsearch/transport.py:606\u001b[0m, in \u001b[0;36mTransport._do_verify_elasticsearch\u001b[0;34m(self, headers, timeout)\u001b[0m\n\u001b[1;32m    <a href='file:///opt/anaconda3/envs/elasticsearch/lib/python3.10/site-packages/elasticsearch/transport.py?line=602'>603</a>\u001b[0m \u001b[39m# If we received a connection error and weren't successful\u001b[39;00m\n\u001b[1;32m    <a href='file:///opt/anaconda3/envs/elasticsearch/lib/python3.10/site-packages/elasticsearch/transport.py?line=603'>604</a>\u001b[0m \u001b[39m# anywhere then we re-raise the more appropriate error.\u001b[39;00m\n\u001b[1;32m    <a href='file:///opt/anaconda3/envs/elasticsearch/lib/python3.10/site-packages/elasticsearch/transport.py?line=604'>605</a>\u001b[0m \u001b[39mif\u001b[39;00m error \u001b[39mand\u001b[39;00m \u001b[39mnot\u001b[39;00m info_response:\n\u001b[0;32m--> <a href='file:///opt/anaconda3/envs/elasticsearch/lib/python3.10/site-packages/elasticsearch/transport.py?line=605'>606</a>\u001b[0m     \u001b[39mraise\u001b[39;00m error\n\u001b[1;32m    <a href='file:///opt/anaconda3/envs/elasticsearch/lib/python3.10/site-packages/elasticsearch/transport.py?line=607'>608</a>\u001b[0m \u001b[39m# Check the information we got back from the index request.\u001b[39;00m\n\u001b[1;32m    <a href='file:///opt/anaconda3/envs/elasticsearch/lib/python3.10/site-packages/elasticsearch/transport.py?line=608'>609</a>\u001b[0m \u001b[39mself\u001b[39m\u001b[39m.\u001b[39m_verified_elasticsearch \u001b[39m=\u001b[39m _ProductChecker\u001b[39m.\u001b[39mcheck_product(\n\u001b[1;32m    <a href='file:///opt/anaconda3/envs/elasticsearch/lib/python3.10/site-packages/elasticsearch/transport.py?line=609'>610</a>\u001b[0m     info_headers, info_response\n\u001b[1;32m    <a href='file:///opt/anaconda3/envs/elasticsearch/lib/python3.10/site-packages/elasticsearch/transport.py?line=610'>611</a>\u001b[0m )\n",
      "File \u001b[0;32m/opt/anaconda3/envs/elasticsearch/lib/python3.10/site-packages/elasticsearch/transport.py:569\u001b[0m, in \u001b[0;36mTransport._do_verify_elasticsearch\u001b[0;34m(self, headers, timeout)\u001b[0m\n\u001b[1;32m    <a href='file:///opt/anaconda3/envs/elasticsearch/lib/python3.10/site-packages/elasticsearch/transport.py?line=565'>566</a>\u001b[0m attempted_conns\u001b[39m.\u001b[39mappend(conn)\n\u001b[1;32m    <a href='file:///opt/anaconda3/envs/elasticsearch/lib/python3.10/site-packages/elasticsearch/transport.py?line=567'>568</a>\u001b[0m \u001b[39mtry\u001b[39;00m:\n\u001b[0;32m--> <a href='file:///opt/anaconda3/envs/elasticsearch/lib/python3.10/site-packages/elasticsearch/transport.py?line=568'>569</a>\u001b[0m     _, info_headers, info_response \u001b[39m=\u001b[39m conn\u001b[39m.\u001b[39;49mperform_request(\n\u001b[1;32m    <a href='file:///opt/anaconda3/envs/elasticsearch/lib/python3.10/site-packages/elasticsearch/transport.py?line=569'>570</a>\u001b[0m         \u001b[39m\"\u001b[39;49m\u001b[39mGET\u001b[39;49m\u001b[39m\"\u001b[39;49m, \u001b[39m\"\u001b[39;49m\u001b[39m/\u001b[39;49m\u001b[39m\"\u001b[39;49m, headers\u001b[39m=\u001b[39;49mheaders, timeout\u001b[39m=\u001b[39;49mtimeout\n\u001b[1;32m    <a href='file:///opt/anaconda3/envs/elasticsearch/lib/python3.10/site-packages/elasticsearch/transport.py?line=570'>571</a>\u001b[0m     )\n\u001b[1;32m    <a href='file:///opt/anaconda3/envs/elasticsearch/lib/python3.10/site-packages/elasticsearch/transport.py?line=572'>573</a>\u001b[0m     \u001b[39m# Lowercase all the header names for consistency in accessing them.\u001b[39;00m\n\u001b[1;32m    <a href='file:///opt/anaconda3/envs/elasticsearch/lib/python3.10/site-packages/elasticsearch/transport.py?line=573'>574</a>\u001b[0m     info_headers \u001b[39m=\u001b[39m {\n\u001b[1;32m    <a href='file:///opt/anaconda3/envs/elasticsearch/lib/python3.10/site-packages/elasticsearch/transport.py?line=574'>575</a>\u001b[0m         header\u001b[39m.\u001b[39mlower(): value \u001b[39mfor\u001b[39;00m header, value \u001b[39min\u001b[39;00m info_headers\u001b[39m.\u001b[39mitems()\n\u001b[1;32m    <a href='file:///opt/anaconda3/envs/elasticsearch/lib/python3.10/site-packages/elasticsearch/transport.py?line=575'>576</a>\u001b[0m     }\n",
      "File \u001b[0;32m/opt/anaconda3/envs/elasticsearch/lib/python3.10/site-packages/elasticsearch/connection/http_urllib3.py:280\u001b[0m, in \u001b[0;36mUrllib3HttpConnection.perform_request\u001b[0;34m(self, method, url, params, body, timeout, ignore, headers)\u001b[0m\n\u001b[1;32m    <a href='file:///opt/anaconda3/envs/elasticsearch/lib/python3.10/site-packages/elasticsearch/connection/http_urllib3.py?line=277'>278</a>\u001b[0m     \u001b[39mif\u001b[39;00m \u001b[39misinstance\u001b[39m(e, ReadTimeoutError):\n\u001b[1;32m    <a href='file:///opt/anaconda3/envs/elasticsearch/lib/python3.10/site-packages/elasticsearch/connection/http_urllib3.py?line=278'>279</a>\u001b[0m         \u001b[39mraise\u001b[39;00m ConnectionTimeout(\u001b[39m\"\u001b[39m\u001b[39mTIMEOUT\u001b[39m\u001b[39m\"\u001b[39m, \u001b[39mstr\u001b[39m(e), e)\n\u001b[0;32m--> <a href='file:///opt/anaconda3/envs/elasticsearch/lib/python3.10/site-packages/elasticsearch/connection/http_urllib3.py?line=279'>280</a>\u001b[0m     \u001b[39mraise\u001b[39;00m \u001b[39mConnectionError\u001b[39;00m(\u001b[39m\"\u001b[39m\u001b[39mN/A\u001b[39m\u001b[39m\"\u001b[39m, \u001b[39mstr\u001b[39m(e), e)\n\u001b[1;32m    <a href='file:///opt/anaconda3/envs/elasticsearch/lib/python3.10/site-packages/elasticsearch/connection/http_urllib3.py?line=281'>282</a>\u001b[0m \u001b[39m# raise warnings if any from the 'Warnings' header.\u001b[39;00m\n\u001b[1;32m    <a href='file:///opt/anaconda3/envs/elasticsearch/lib/python3.10/site-packages/elasticsearch/connection/http_urllib3.py?line=282'>283</a>\u001b[0m warning_headers \u001b[39m=\u001b[39m response\u001b[39m.\u001b[39mheaders\u001b[39m.\u001b[39mget_all(\u001b[39m\"\u001b[39m\u001b[39mwarning\u001b[39m\u001b[39m\"\u001b[39m, ())\n",
      "\u001b[0;31mConnectionError\u001b[0m: ConnectionError(<urllib3.connection.HTTPSConnection object at 0x7fca608eb820>: Failed to establish a new connection: [Errno 8] nodename nor servname provided, or not known) caused by: NewConnectionError(<urllib3.connection.HTTPSConnection object at 0x7fca608eb820>: Failed to establish a new connection: [Errno 8] nodename nor servname provided, or not known)"
     ]
    }
   ],
   "source": [
    "search('unsupervised')"
   ]
  },
  {
   "cell_type": "code",
   "execution_count": 33,
   "metadata": {},
   "outputs": [
    {
     "data": {
      "text/plain": [
       "MultiMatch(query='user')"
      ]
     },
     "execution_count": 33,
     "metadata": {},
     "output_type": "execute_result"
    }
   ],
   "source": [
    "from elasticsearch_dsl.query import MultiMatch, Match\n",
    "\n",
    "# {\"multi_match\": {\"query\": \"python django\", \"fields\": [\"title\", \"body\"]}}\n",
    "MultiMatch(query='user')\n"
   ]
  },
  {
   "cell_type": "code",
   "execution_count": 34,
   "metadata": {},
   "outputs": [
    {
     "data": {
      "text/plain": [
       "MultiMatch(query='user')"
      ]
     },
     "execution_count": 34,
     "metadata": {},
     "output_type": "execute_result"
    }
   ],
   "source": [
    "from elasticsearch_dsl import Q\n",
    "\n",
    "Q(\"multi_match\", query='user')"
   ]
  },
  {
   "cell_type": "code",
   "execution_count": 42,
   "metadata": {},
   "outputs": [
    {
     "data": {
      "text/plain": [
       "['Total 7 hits found: ',\n",
       " <Response: [<Hit(model/9be3d982-b6cd-4403-8373-c0e66f2eb98a): {'content_type': 'model', 'name': 'pytorch_autoencoder', 've...}>, <Hit(model/a5e21579-c238-440a-8703-3f858e2ddbc3): {'version': '1.0.0', 'type': 'unsupervised', 'uri': 'xxx', '...}>, <Hit(model/dd184a4d-beee-4f1c-9ce1-3b03a6eac160): {'version': '1.0.0', 'type': 'supervised', 'uri': 'xxx', 'ap...}>, <Hit(model/d68d176e-3c9e-4cb5-8d86-e775164c9dbd): {'version': '1.0.0', 'type': 'supervised', 'uri': 'xxx', 'ap...}>, <Hit(model/37d9c5c0-a044-427d-b722-6ddef878f59b): {'version': '1.0.0', 'type': 'supervised', 'uri': 'xxx', 'ap...}>, <Hit(model/1705cb31-f030-401f-8fbc-791eeec2c445): {'version': '1.0.0', 'type': 'supervised', 'uri': 'xxx', 'ap...}>, <Hit(model/d39d5efc-aa47-4821-a145-b594df677e9d): {'version': '1.0.0', 'type': 'supervised', 'uri': 'xxx', 'ap...}>]>]"
      ]
     },
     "execution_count": 42,
     "metadata": {},
     "output_type": "execute_result"
    }
   ],
   "source": [
    "search('model')"
   ]
  },
  {
   "cell_type": "code",
   "execution_count": 58,
   "metadata": {},
   "outputs": [
    {
     "data": {
      "text/plain": [
       "{'query': {'bool': {'filter': [{'term': {'category': 'name'}}],\n",
       "   'must': [{'match': {'title': 'TF-NeutralNetworks'}}]}}}"
      ]
     },
     "execution_count": 58,
     "metadata": {},
     "output_type": "execute_result"
    }
   ],
   "source": [
    "result"
   ]
  },
  {
   "cell_type": "code",
   "execution_count": 60,
   "metadata": {},
   "outputs": [
    {
     "name": "stdout",
     "output_type": "stream",
     "text": [
      "True\n",
      "4\n",
      "eq\n",
      "1\n"
     ]
    },
    {
     "data": {
      "text/plain": [
       "{'took': 4,\n",
       " 'timed_out': False,\n",
       " '_shards': {'total': 3, 'successful': 3, 'skipped': 0, 'failed': 0},\n",
       " 'hits': {'total': {'value': 1, 'relation': 'eq'},\n",
       "  'max_score': 2.0167708,\n",
       "  'hits': [{'_index': 'model',\n",
       "    '_id': '9be3d982-b6cd-4403-8373-c0e66f2eb98a',\n",
       "    '_score': 2.0167708,\n",
       "    '_source': {'name': 'pytorch_autoencoder',\n",
       "     'version': '0.0.1',\n",
       "     'type': 'unsupervised',\n",
       "     'uri': 'mlexchange/unsupervised-classifier',\n",
       "     'description': 'xxx',\n",
       "     'content_id': '9be3d982-b6cd-4403-8373-c0e66f2eb98a'}}]}}"
      ]
     },
     "execution_count": 60,
     "metadata": {},
     "output_type": "execute_result"
    }
   ],
   "source": [
    "resp = Search().using(es).query('match', name = 'pytorch_autoencoder').extra(track_total_hits = True).execute()\n",
    "\n",
    "print(resp.success())\n",
    "\n",
    "print(resp.took)\n",
    "\n",
    "print(resp.hits.total.relation)\n",
    "\n",
    "print(resp.hits.total.value)\n",
    "\n",
    "\n",
    "# for h in resp:\n",
    "#     print(h.name, h.uid)\n",
    "\n",
    "\n",
    "resp.to_dict()\n"
   ]
  },
  {
   "cell_type": "markdown",
   "metadata": {},
   "source": [
    "## Add a new index\n",
    "\n",
    "HTTP POST\n",
    "\n",
    "URI: ‘/add-index/{index}’\n",
    "\n",
    "Def add_index(index: str)\n",
    "\n",
    "Description: Check if the index exists, if not, add the given index\n",
    "\n",
    "Return: `{index} has been successfully inserted!`\n"
   ]
  },
  {
   "cell_type": "code",
   "execution_count": 15,
   "metadata": {},
   "outputs": [],
   "source": [
    "def create_index(index: str):\n",
    "    '''\n",
    "    Check if the index exists, if not, add the given index\n",
    "    '''\n",
    "    try:\n",
    "        resp = Index(index).create(using = es)\n",
    "        return [f'Index: \\\"{index}\\\" has been successfully created!', resp]\n",
    "\n",
    "    except Exception as e:\n",
    "        return f'Index: \\\"{index}\\\" already exists, please check.'\n",
    "\n",
    "    "
   ]
  },
  {
   "cell_type": "code",
   "execution_count": 16,
   "metadata": {},
   "outputs": [
    {
     "data": {
      "text/plain": [
       "'Index: \"model\" already exists, please check.'"
      ]
     },
     "execution_count": 16,
     "metadata": {},
     "output_type": "execute_result"
    }
   ],
   "source": [
    "create_index('model')"
   ]
  },
  {
   "cell_type": "markdown",
   "metadata": {},
   "source": [
    "## Add/update doc into an index\n",
    "\n",
    "HTTP POST\n",
    "\n",
    "URI: ‘/add-doc/{index}/{field}’\n",
    "\n",
    "Def add_doc(index: str, field: str)\n",
    "\n",
    "Description: Check if the doc exists, if not, add doc to the given index\n",
    "\n",
    "Return: `{field} has been successfully inserted into {index}!`\n"
   ]
  },
  {
   "cell_type": "code",
   "execution_count": 30,
   "metadata": {},
   "outputs": [],
   "source": [
    "def create_doc(index: str, id: str, doc: dict):\n",
    "    '''\n",
    "    Check if the doc exists within the given index, then add/update doc to the index.\n",
    "    '''\n",
    "    check_index = Index(index).exists(using = es)\n",
    "    if not check_index:\n",
    "        return f'Index: \\\"{index}\\\" does not exist, please check.'\n",
    "    else:\n",
    "        check_doc = Document().exists(using = es, index = index, id = id)\n",
    "        if check_doc:\n",
    "            es.index(index = index, id = id, document = doc)\n",
    "            return 'UID: \\\"' + doc['uid'] + '\\\" has been updated.'\n",
    "        else:\n",
    "            es.index(index = index, id = id, document = doc)\n",
    "            return f'New document has been successfully inserted in \\\"{index}\\\".'\n",
    "\n"
   ]
  },
  {
   "cell_type": "code",
   "execution_count": 31,
   "metadata": {},
   "outputs": [
    {
     "data": {
      "text/plain": [
       "'UID: \"A12345\" has been updated.'"
      ]
     },
     "execution_count": 31,
     "metadata": {},
     "output_type": "execute_result"
    }
   ],
   "source": [
    "doc = {'name': 'Tibbers Hao',\n",
    "   'affiliation': 'LBNL',\n",
    "   'role': 'admin',\n",
    "   'uid': 'A12345'}\n",
    "create_doc('user', doc['uid'], doc)"
   ]
  },
  {
   "cell_type": "markdown",
   "metadata": {},
   "source": [
    "## Delete a doc\n",
    "\n",
    "HTTP DELETE\n",
    "\n",
    "URI: ‘/delete-doc/{index}/{id or field}’\n",
    "\n",
    "Def delete_doc(index: str, field: str, id: str/int)\n",
    "\n",
    "Description: Check if the doc exists, if yes, delete doc in the specified index\n",
    "\n",
    "Return: ‘{field} has been successfully Deleted in {index}!’ \n"
   ]
  },
  {
   "cell_type": "code",
   "execution_count": 477,
   "metadata": {},
   "outputs": [],
   "source": [
    "def delete_doc(index: str, keyword: str):\n",
    "    '''\n",
    "    Delete document within specified index\n",
    "    '''\n",
    "    resp = Search().using(es).index(index).query('match', name = keyword).delete()\n",
    "    return 'Document has been deleted.'"
   ]
  },
  {
   "cell_type": "code",
   "execution_count": 485,
   "metadata": {},
   "outputs": [
    {
     "data": {
      "text/plain": [
       "'Document has been deleted.'"
      ]
     },
     "execution_count": 485,
     "metadata": {},
     "output_type": "execute_result"
    }
   ],
   "source": [
    "delete_doc('user', '')"
   ]
  },
  {
   "cell_type": "markdown",
   "metadata": {},
   "source": [
    "## Delete an index \n",
    "\n",
    "HTTP DELETE\n",
    "\n",
    "URI: ‘/delete-index/{index}’\n",
    "\n",
    "Def delete_index(index; str)\n",
    "\n",
    "Description: Check if the index exists, if yes, delete the index (and all docs within)\n",
    "\n",
    "Return: ‘{index} has been successfully Deleted!’ \n"
   ]
  },
  {
   "cell_type": "code",
   "execution_count": 66,
   "metadata": {},
   "outputs": [],
   "source": [
    "def delete_index(index: str):\n",
    "    '''\n",
    "    Check if the index exists, if not, add the given index\n",
    "    '''\n",
    "    try:\n",
    "        resp = Index(index).delete(using = es)\n",
    "        print(f'Index: \\\"{index}\\\" has been successfully deleted!')\n",
    "        print(resp)\n",
    "    except Exception as e:\n",
    "        print(f'Index: \\\"{index}\\\" does not exist.')"
   ]
  },
  {
   "cell_type": "code",
   "execution_count": 74,
   "metadata": {},
   "outputs": [
    {
     "name": "stdout",
     "output_type": "stream",
     "text": [
      "Index: \"model\" has been successfully deleted!\n",
      "{'acknowledged': True}\n"
     ]
    }
   ],
   "source": [
    "delete_index('model')"
   ]
  },
  {
   "cell_type": "code",
   "execution_count": 32,
   "metadata": {},
   "outputs": [
    {
     "name": "stdout",
     "output_type": "stream",
     "text": [
      "<Hit(app/1): {'name': 'segmentation', 'target': 'image', 'uid': '1'}>\n",
      "<Hit(model/9be3d982-b6cd-4403-8373-c0e66f2eb98a): {'content_type': 'model', 'name': 'pytorch_autoencoder', 've...}>\n",
      "<Hit(user/A12345): {'name': 'Tibbers Hao', 'affiliation': 'LBNL', 'role': 'admi...}>\n",
      "<Hit(workflow/ad5e2cd0-ac88-4c31-bc05-65dbd4ca3cd9): {'content_type': 'workflow', 'name': 'Image Labeling', 'vers...}>\n",
      "<Hit(app/2): {'name': 'peak detection', 'target': 'spectra', 'uid': '2'}>\n",
      "<Hit(model/a5e21579-c238-440a-8703-3f858e2ddbc3): {'version': '1.0.0', 'type': 'unsupervised', 'uri': 'xxx', '...}>\n",
      "<Hit(user/A67890): {'name': 'Tanny Andrea Chavez Esparza', 'affiliation': 'LBNL...}>\n",
      "<Hit(app/3): {'name': 'label maker', 'target': 'image', 'uid': '3'}>\n",
      "<Hit(model/dd184a4d-beee-4f1c-9ce1-3b03a6eac160): {'version': '1.0.0', 'type': 'supervised', 'uri': 'xxx', 'ap...}>\n",
      "<Hit(user/A13579): {'name': 'Zhuowen Zhao', 'affiliation': 'LBNL', 'role': 'adm...}>\n",
      "<Hit(app/4): {'name': 'colorwheel', 'target': 'image', 'uid': '4'}>\n",
      "<Hit(model/d68d176e-3c9e-4cb5-8d86-e775164c9dbd): {'version': '1.0.0', 'type': 'supervised', 'uri': 'xxx', 'ap...}>\n",
      "<Hit(user/A24680): {'name': 'Elizabeth Holman', 'affiliation': 'LBNL', 'role': ...}>\n",
      "<Hit(app/4fe35a4b-32d3-4bd5-b7e7-ddbc96b190d9): {'content_type': 'app', 'name': 'labelmaker', 'version': '1....}>\n",
      "<Hit(model/37d9c5c0-a044-427d-b722-6ddef878f59b): {'version': '1.0.0', 'type': 'supervised', 'uri': 'xxx', 'ap...}>\n",
      "<Hit(user/A09876): {'name': 'Hari Krishnan', 'affiliation': 'LBNL', 'role': 'ad...}>\n",
      "<Hit(app/90597d46-82db-406e-aa16-74788dd50bd7): {'content_type': 'app', 'name': 'seg-demo', 'version': '1.0....}>\n",
      "<Hit(model/1705cb31-f030-401f-8fbc-791eeec2c445): {'version': '1.0.0', 'type': 'supervised', 'uri': 'xxx', 'ap...}>\n",
      "<Hit(user/A54321): {'name': 'Howard Yanxon', 'affiliation': 'ANL', 'role': 'adm...}>\n",
      "<Hit(model/d39d5efc-aa47-4821-a145-b594df677e9d): {'version': '1.0.0', 'type': 'supervised', 'uri': 'xxx', 'ap...}>\n",
      "<Hit(user/B12121): {'name': 'Dula Parkinson', 'affiliation': 'LBNL', 'role': 'u...}>\n",
      "<Hit(user/B56565): {'name': 'John Doe', 'affiliation': 'UCB', 'role': 'user', '...}>\n",
      "<Hit(user/B78787): {'name': 'Jane Doe', 'affiliation': 'Stanford', 'role': 'use...}>\n"
     ]
    }
   ],
   "source": [
    "for h in Search().using(es).scan():\n",
    "    print(h)"
   ]
  },
  {
   "cell_type": "code",
   "execution_count": 44,
   "metadata": {},
   "outputs": [
    {
     "data": {
      "text/plain": [
       "\"['a', 'b']\""
      ]
     },
     "execution_count": 44,
     "metadata": {},
     "output_type": "execute_result"
    }
   ],
   "source": [
    "str(['a', 'b'])"
   ]
  },
  {
   "cell_type": "code",
   "execution_count": null,
   "metadata": {},
   "outputs": [],
   "source": []
  }
 ],
 "metadata": {
  "interpreter": {
   "hash": "232848e0d77094dd29308222f6b66ffddce9abe6fe49a769938f4eeb79e7b6e6"
  },
  "kernelspec": {
   "display_name": "Python 3.10.2 ('elasticsearch')",
   "language": "python",
   "name": "python3"
  },
  "language_info": {
   "codemirror_mode": {
    "name": "ipython",
    "version": 3
   },
   "file_extension": ".py",
   "mimetype": "text/x-python",
   "name": "python",
   "nbconvert_exporter": "python",
   "pygments_lexer": "ipython3",
   "version": "3.10.2"
  },
  "orig_nbformat": 4
 },
 "nbformat": 4,
 "nbformat_minor": 2
}
