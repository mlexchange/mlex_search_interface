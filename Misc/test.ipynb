{
 "cells": [
  {
   "cell_type": "code",
   "execution_count": 1,
   "metadata": {},
   "outputs": [],
   "source": [
    "from elasticsearch import Elasticsearch\n",
    "from elasticsearch_dsl import Search, Index, Document, UpdateByQuery\n",
    "\n",
    "from ssl import create_default_context\n",
    "import json"
   ]
  },
  {
   "cell_type": "code",
   "execution_count": null,
   "metadata": {},
   "outputs": [],
   "source": [
    "# ! docker cp searchapi-elasticsearch-1:usr/share/elasticsearch/config/certs/ca/ca.crt .\n",
    "# ! docker exec -it fastapi-elasticsearch-1 /usr/share/elasticsearch/bin/elasticsearch-reset-password -u elastic\n",
    "# ! docker exec -it fastapi-elasticsearch-1 /usr/share/elasticsearch/bin/elasticsearch-create-enrollment-token -s kibana\n",
    "# ! docker exec -it fastapi-kibana-1 /usr/share/kibana/bin/kibana-verification-code"
   ]
  },
  {
   "cell_type": "code",
   "execution_count": null,
   "metadata": {},
   "outputs": [],
   "source": [
    "! docker cp searchapi_elasticsearch_1:usr/share/elasticsearch/config/certs/ca/ca.crt ."
   ]
  },
  {
   "cell_type": "code",
   "execution_count": 2,
   "metadata": {},
   "outputs": [],
   "source": [
    "#context = create_default_context(cafile='./ca.crt')\n",
    "\n",
    "es = Elasticsearch(\n",
    "    #'http://localhost:9200',\n",
    "   # basic_auth=('elastic','elastic'),\n",
    "    #ssl_context=context,\n",
    ")"
   ]
  },
  {
   "cell_type": "code",
   "execution_count": 3,
   "metadata": {},
   "outputs": [
    {
     "data": {
      "text/plain": [
       "<Elasticsearch([{}])>"
      ]
     },
     "execution_count": 3,
     "metadata": {},
     "output_type": "execute_result"
    }
   ],
   "source": [
    "es"
   ]
  },
  {
   "cell_type": "code",
   "execution_count": 5,
   "metadata": {},
   "outputs": [
    {
     "name": "stdout",
     "output_type": "stream",
     "text": [
      "user\n",
      "{'name': 'Tibbers Hao', 'affiliation': 'LBNL', 'role': 'admin', 'uid': 'A12345'}\n",
      "{'name': 'Tanny Andrea Chavez Esparza', 'affiliation': 'LBNL', 'role': 'admin', 'uid': 'A67890'}\n",
      "{'name': 'Zhuowen Zhao', 'affiliation': 'LBNL', 'role': 'admin', 'uid': 'A13579'}\n",
      "{'name': 'Elizabeth Holman', 'affiliation': 'LBNL', 'role': 'admin', 'uid': 'A24680'}\n",
      "{'name': 'Hari Krishnan', 'affiliation': 'LBNL', 'role': 'admin', 'uid': 'A09876'}\n",
      "{'name': 'Howard Yanxon', 'affiliation': 'ANL', 'role': 'admin', 'uid': 'A54321'}\n",
      "{'name': 'Dula Parkinson', 'affiliation': 'LBNL', 'role': 'user', 'uid': 'B12121'}\n",
      "{'name': 'John Doe', 'affiliation': 'UCB', 'role': 'user', 'uid': 'B56565'}\n",
      "{'name': 'Jane Doe', 'affiliation': 'Stanford', 'role': 'user', 'uid': 'B78787'}\n",
      "app\n",
      "{'name': 'segmentation', 'target': 'image', 'uid': '1'}\n",
      "{'name': 'peak detection', 'target': 'spectra', 'uid': '2'}\n",
      "{'name': 'label maker', 'target': 'image', 'uid': '3'}\n",
      "{'name': 'colorwheel', 'target': 'image', 'uid': '4'}\n"
     ]
    }
   ],
   "source": [
    "with open('database.json') as json_file:\n",
    "    database = json.load(json_file)\n",
    "\n",
    "# Transfer string to dict    \n",
    "database = json.loads(database)\n",
    "\n",
    "for key, values in database.items():\n",
    "    print(key)\n",
    "    for item in values:\n",
    "        print(item)"
   ]
  },
  {
   "cell_type": "code",
   "execution_count": 17,
   "metadata": {},
   "outputs": [],
   "source": [
    "# Connection with Content Registry\n",
    "import urllib.request\n",
    "\n",
    "def model_list_GET_call(url):\n",
    "    \"\"\"\n",
    "    Get the whole model registry data from the fastapi url.\n",
    "    \"\"\"\n",
    "    #url = 'http://localhost:8000/api/v0/models'  # current host, could be inside the docker\n",
    "    response = urllib.request.urlopen(url)\n",
    "    data = json.loads(response.read())\n",
    "    return data"
   ]
  },
  {
   "cell_type": "code",
   "execution_count": 10,
   "metadata": {},
   "outputs": [
    {
     "ename": "NameError",
     "evalue": "name 'model_list_GET_call' is not defined",
     "output_type": "error",
     "traceback": [
      "\u001b[0;31m---------------------------------------------------------------------------\u001b[0m",
      "\u001b[0;31mNameError\u001b[0m                                 Traceback (most recent call last)",
      "\u001b[0;32m/var/folders/qm/fz0bzgqs14s999_5ws_k2kq80000gn/T/ipykernel_78663/510489576.py\u001b[0m in \u001b[0;36m<cell line: 3>\u001b[0;34m()\u001b[0m\n\u001b[1;32m      1\u001b[0m \u001b[0mkeys\u001b[0m \u001b[0;34m=\u001b[0m \u001b[0;34m[\u001b[0m\u001b[0;34m\"name\"\u001b[0m\u001b[0;34m,\u001b[0m\u001b[0;34m\"version\"\u001b[0m\u001b[0;34m,\u001b[0m\u001b[0;34m\"type\"\u001b[0m\u001b[0;34m,\u001b[0m\u001b[0;34m\"uri\"\u001b[0m\u001b[0;34m,\u001b[0m\u001b[0;34m\"reference\"\u001b[0m\u001b[0;34m,\u001b[0m \u001b[0;34m\"description\"\u001b[0m\u001b[0;34m,\u001b[0m\u001b[0;34m\"content_id\"\u001b[0m\u001b[0;34m]\u001b[0m\u001b[0;34m\u001b[0m\u001b[0;34m\u001b[0m\u001b[0m\n\u001b[1;32m      2\u001b[0m \u001b[0;34m\u001b[0m\u001b[0m\n\u001b[0;32m----> 3\u001b[0;31m \u001b[0;32mfor\u001b[0m \u001b[0mmodel\u001b[0m \u001b[0;32min\u001b[0m \u001b[0mmodel_list_GET_call\u001b[0m\u001b[0;34m(\u001b[0m\u001b[0;34m)\u001b[0m\u001b[0;34m:\u001b[0m\u001b[0;34m\u001b[0m\u001b[0;34m\u001b[0m\u001b[0m\n\u001b[0m\u001b[1;32m      4\u001b[0m     \u001b[0mcontent_data\u001b[0m \u001b[0;34m=\u001b[0m \u001b[0;34m{\u001b[0m\u001b[0;34m}\u001b[0m\u001b[0;34m\u001b[0m\u001b[0;34m\u001b[0m\u001b[0m\n\u001b[1;32m      5\u001b[0m     \u001b[0;32mfor\u001b[0m \u001b[0mkey\u001b[0m\u001b[0;34m,\u001b[0m \u001b[0mvalue\u001b[0m \u001b[0;32min\u001b[0m \u001b[0mmodel\u001b[0m\u001b[0;34m.\u001b[0m\u001b[0mitems\u001b[0m\u001b[0;34m(\u001b[0m\u001b[0;34m)\u001b[0m\u001b[0;34m:\u001b[0m\u001b[0;34m\u001b[0m\u001b[0;34m\u001b[0m\u001b[0m\n",
      "\u001b[0;31mNameError\u001b[0m: name 'model_list_GET_call' is not defined"
     ]
    }
   ],
   "source": [
    "keys = [\"name\",\"version\",\"type\",\"uri\",\"reference\", \"description\",\"content_id\"]\n",
    "\n",
    "for model in model_list_GET_call():\n",
    "    content_data = {}\n",
    "    for key, value in model.items():\n",
    "        if key in keys:\n",
    "            content_data[key] = value\n",
    "    # does not support list as dict value and [_id], as it's been used for elasticsearch\n",
    "    es.index(index = 'model', id = content_data['content_id'], document = content_data)"
   ]
  },
  {
   "cell_type": "code",
   "execution_count": 26,
   "metadata": {},
   "outputs": [],
   "source": [
    "url_head = 'http://localhost:8000/api/v0/'\n",
    "catagory = ['models', 'apps', 'workflows']"
   ]
  },
  {
   "cell_type": "code",
   "execution_count": 27,
   "metadata": {},
   "outputs": [
    {
     "name": "stdout",
     "output_type": "stream",
     "text": [
      "http://localhost:8000/api/v0/models\n",
      "http://localhost:8000/api/v0/apps\n",
      "http://localhost:8000/api/v0/workflows\n"
     ]
    }
   ],
   "source": [
    "for item in catagory:\n",
    "    url = url_head + item\n",
    "    print(url)"
   ]
  },
  {
   "cell_type": "code",
   "execution_count": 29,
   "metadata": {},
   "outputs": [
    {
     "name": "stdout",
     "output_type": "stream",
     "text": [
      "model\n",
      "9be3d982-b6cd-4403-8373-c0e66f2eb98a\n",
      "{'content_type': 'model', 'name': 'pytorch_autoencoder', 'version': '0.0.1', 'type': 'unsupervised', 'owner': 'mlexchange team', 'uri': 'mlexchange/unsupervised-classifier', 'application': ['data_clinic'], 'description': 'xxx', 'content_id': '9be3d982-b6cd-4403-8373-c0e66f2eb98a'}\n",
      "model\n",
      "a5e21579-c238-440a-8703-3f858e2ddbc3\n",
      "{'version': '1.0.0', 'type': 'unsupervised', 'uri': 'xxx', 'application': ['segmentation', 'clustering'], 'description': 'xxx', 'reference': 'Nicholas Schwartz & Howard Yanxon', 'content_type': 'model', 'content_id': 'a5e21579-c238-440a-8703-3f858e2ddbc3', 'name': 'kmeans', 'owner': 'mlexchange team'}\n",
      "model\n",
      "dd184a4d-beee-4f1c-9ce1-3b03a6eac160\n",
      "{'version': '1.0.0', 'type': 'supervised', 'uri': 'xxx', 'application': ['classification', 'segmentation'], 'description': 'xxx', 'reference': 'Peter Zwart & Eric Roberts', 'content_type': 'model', 'content_id': 'dd184a4d-beee-4f1c-9ce1-3b03a6eac160', 'name': 'pyMSDtorch', 'owner': 'mlexchange team'}\n",
      "model\n",
      "d68d176e-3c9e-4cb5-8d86-e775164c9dbd\n",
      "{'version': '1.0.0', 'type': 'supervised', 'uri': 'xxx', 'application': ['classification', 'segmentation'], 'description': 'xxx', 'reference': 'Adapted from Dash Plotly image segmentation example', 'content_type': 'model', 'content_id': 'd68d176e-3c9e-4cb5-8d86-e775164c9dbd', 'name': 'random_forest', 'owner': 'mlexchange team'}\n",
      "model\n",
      "37d9c5c0-a044-427d-b722-6ddef878f59b\n",
      "{'version': '1.0.0', 'type': 'supervised', 'uri': 'xxx', 'application': ['mlcoach'], 'description': 'xxx', 'reference': 'xxx', 'content_type': 'model', 'content_id': '37d9c5c0-a044-427d-b722-6ddef878f59b', 'name': 'Tensorflow-NN', 'owner': 'mlexchange team'}\n",
      "model\n",
      "1705cb31-f030-401f-8fbc-791eeec2c445\n",
      "{'version': '1.0.0', 'type': 'supervised', 'uri': 'xxx', 'application': ['mlcoach'], 'description': 'xxx', 'reference': 'xxx', 'content_id': '1705cb31-f030-401f-8fbc-791eeec2c445', 'content_type': 'model', 'name': 'TF-NeutralNetworks', 'owner': 'mlexchange team'}\n",
      "model\n",
      "d39d5efc-aa47-4821-a145-b594df677e9d\n",
      "{'version': '1.0.0', 'type': 'supervised', 'uri': 'xxx', 'application': ['image segmentation'], 'description': 'xxx', 'reference': 'pyMSDtorch, Peter Zwart & Eric Roberts', 'content_type': 'model', 'content_id': 'd39d5efc-aa47-4821-a145-b594df677e9d', 'name': 'TUNet', 'owner': 'mlexchange team'}\n",
      "app\n",
      "4fe35a4b-32d3-4bd5-b7e7-ddbc96b190d9\n",
      "{'content_type': 'app', 'name': 'labelmaker', 'version': '1.0.0', 'owner': 'mlexchange team', 'uri': 'xxx', 'application': [], 'description': 'xxx', 'content_id': '4fe35a4b-32d3-4bd5-b7e7-ddbc96b190d9'}\n",
      "app\n",
      "90597d46-82db-406e-aa16-74788dd50bd7\n",
      "{'content_type': 'app', 'name': 'seg-demo', 'version': '1.0.0', 'owner': 'mlexchange team', 'uri': 'xxx', 'application': [], 'description': 'xxx', 'content_id': '90597d46-82db-406e-aa16-74788dd50bd7'}\n",
      "workflow\n",
      "ad5e2cd0-ac88-4c31-bc05-65dbd4ca3cd9\n",
      "{'content_type': 'workflow', 'name': 'Image Labeling', 'version': '1.0.0', 'owner': 'mlexchange team', 'uri': 'xxx', 'application': [], 'description': 'xxx', 'content_id': 'ad5e2cd0-ac88-4c31-bc05-65dbd4ca3cd9'}\n"
     ]
    }
   ],
   "source": [
    "keys = [\"name\", \"version\", \"type\", \"uri\", \"application\", \"reference\", \"description\", \"content_type\", \"content_id\", \"owner\"]\n",
    "\n",
    "url_head = 'http://localhost:8000/api/v0/'\n",
    "catagory = ['models', 'apps', 'workflows']\n",
    "\n",
    "for item in catagory:\n",
    "    url = url_head + item\n",
    "\n",
    "    for model in model_list_GET_call(url):\n",
    "        \n",
    "        content_data = {}\n",
    "        for key, value in model.items():\n",
    "            if key in keys:\n",
    "                content_data[key] = value\n",
    "        print(content_data['content_type'])\n",
    "        print(content_data['content_id'])        \n",
    "        print(content_data)\n",
    "\n"
   ]
  },
  {
   "cell_type": "code",
   "execution_count": 10,
   "metadata": {},
   "outputs": [],
   "source": [
    "# Insert docs\n",
    "for key, values in database.items():\n",
    "    for item in values:\n",
    "        flag = True\n",
    "        try: \n",
    "            record = es.get(index = key, id = item['uid'])\n",
    "        except Exception as e:\n",
    "            flag = False\n",
    "            print('uid: ' + item['uid'] + ' not exists, inserting ...') \n",
    "        \n",
    "        if not flag:\n",
    "            es.index(index = key, id = item['uid'], document = item)"
   ]
  },
  {
   "cell_type": "markdown",
   "metadata": {},
   "source": [
    "# FastAPI Callback List\n"
   ]
  },
  {
   "cell_type": "markdown",
   "metadata": {},
   "source": [
    "## Search doc based on index\n",
    "\n",
    "HTTP GET\n",
    "\n",
    "URI: ‘/search-doc/{index}/{field}’\n",
    "\n",
    "Def search_doc(index: Optional[str], field: str)\n",
    "\n",
    "Description: Search the doc information based on input index and field\n",
    "\n",
    "Return: `{index} : {field}`\n"
   ]
  },
  {
   "cell_type": "code",
   "execution_count": 6,
   "metadata": {},
   "outputs": [],
   "source": [
    "def search(keyword: str):\n",
    "    '''\n",
    "    Search the doc information based on input name.\n",
    "    To do: add sort for ordered display\n",
    "    '''\n",
    "    resp = Search().using(es).query(\"multi_match\", query = keyword, fuzziness = \"AUTO\").extra(track_total_hits = True).execute()\n",
    "    result = resp.to_dict()\n",
    "    #print('Total %d hits found: ' % resp.hits.total.value)\n",
    "    return ['Total %d hits found: ' % resp.hits.total.value, resp]\n",
    "    #for hit in resp:\n",
    "    #    print('Category: ' + hit.meta.index, hit)\n"
   ]
  },
  {
   "cell_type": "code",
   "execution_count": 9,
   "metadata": {},
   "outputs": [
    {
     "data": {
      "text/plain": [
       "['Total 9 hits found: ',\n",
       " <Response: [<Hit(model/3bc2a268-a251-4d40-92b4-366be776ec89): {'content_type': 'model', 'name': 'pytorch_autoencoder', 've...}>, <Hit(model/a5e21579-c238-440a-8703-3f858e2ddbc3): {'version': '1.0.0', 'type': 'unsupervised', 'uri': 'mlexcha...}>, <Hit(model/f0811f67-aa28-491a-9139-46515f26fd48): {'content_type': 'model', 'name': 'PyCBIR', 'version': '1.0....}>, <Hit(model/dd184a4d-beee-4f1c-9ce1-3b03a6eac160): {'version': '1.0.0', 'type': 'supervised', 'uri': 'xxx', 'ap...}>, <Hit(model/d68d176e-3c9e-4cb5-8d86-e775164c9dbd): {'version': '1.0.0', 'type': 'supervised', 'uri': 'mlexchang...}>, <Hit(model/be2efafc-cf05-429d-953c-01308e9a61f0): {'content_type': 'model', 'name': 'SVM', 'version': '2.0.0',...}>, <Hit(model/37d9c5c0-a044-427d-b722-6ddef878f59b): {'version': '1.0.0', 'type': 'supervised', 'uri': 'xxx', 'ap...}>, <Hit(model/1705cb31-f030-401f-8fbc-791eeec2c445): {'version': '1.0.0', 'type': 'supervised', 'uri': 'xxx', 'ap...}>, <Hit(model/d39d5efc-aa47-4821-a145-b594df677e9d): {'version': '1.0.0', 'type': 'supervised', 'uri': 'xxx', 'ap...}>]>]"
      ]
     },
     "execution_count": 9,
     "metadata": {},
     "output_type": "execute_result"
    }
   ],
   "source": [
    "search('unsupervised')"
   ]
  },
  {
   "cell_type": "code",
   "execution_count": 33,
   "metadata": {},
   "outputs": [
    {
     "data": {
      "text/plain": [
       "MultiMatch(query='user')"
      ]
     },
     "execution_count": 33,
     "metadata": {},
     "output_type": "execute_result"
    }
   ],
   "source": [
    "from elasticsearch_dsl.query import MultiMatch, Match\n",
    "\n",
    "# {\"multi_match\": {\"query\": \"python django\", \"fields\": [\"title\", \"body\"]}}\n",
    "MultiMatch(query='user')\n"
   ]
  },
  {
   "cell_type": "code",
   "execution_count": 34,
   "metadata": {},
   "outputs": [
    {
     "data": {
      "text/plain": [
       "MultiMatch(query='user')"
      ]
     },
     "execution_count": 34,
     "metadata": {},
     "output_type": "execute_result"
    }
   ],
   "source": [
    "from elasticsearch_dsl import Q\n",
    "\n",
    "Q(\"multi_match\", query='user')"
   ]
  },
  {
   "cell_type": "code",
   "execution_count": 42,
   "metadata": {},
   "outputs": [
    {
     "data": {
      "text/plain": [
       "['Total 7 hits found: ',\n",
       " <Response: [<Hit(model/9be3d982-b6cd-4403-8373-c0e66f2eb98a): {'content_type': 'model', 'name': 'pytorch_autoencoder', 've...}>, <Hit(model/a5e21579-c238-440a-8703-3f858e2ddbc3): {'version': '1.0.0', 'type': 'unsupervised', 'uri': 'xxx', '...}>, <Hit(model/dd184a4d-beee-4f1c-9ce1-3b03a6eac160): {'version': '1.0.0', 'type': 'supervised', 'uri': 'xxx', 'ap...}>, <Hit(model/d68d176e-3c9e-4cb5-8d86-e775164c9dbd): {'version': '1.0.0', 'type': 'supervised', 'uri': 'xxx', 'ap...}>, <Hit(model/37d9c5c0-a044-427d-b722-6ddef878f59b): {'version': '1.0.0', 'type': 'supervised', 'uri': 'xxx', 'ap...}>, <Hit(model/1705cb31-f030-401f-8fbc-791eeec2c445): {'version': '1.0.0', 'type': 'supervised', 'uri': 'xxx', 'ap...}>, <Hit(model/d39d5efc-aa47-4821-a145-b594df677e9d): {'version': '1.0.0', 'type': 'supervised', 'uri': 'xxx', 'ap...}>]>]"
      ]
     },
     "execution_count": 42,
     "metadata": {},
     "output_type": "execute_result"
    }
   ],
   "source": [
    "search('model')"
   ]
  },
  {
   "cell_type": "code",
   "execution_count": 58,
   "metadata": {},
   "outputs": [
    {
     "data": {
      "text/plain": [
       "{'query': {'bool': {'filter': [{'term': {'category': 'name'}}],\n",
       "   'must': [{'match': {'title': 'TF-NeutralNetworks'}}]}}}"
      ]
     },
     "execution_count": 58,
     "metadata": {},
     "output_type": "execute_result"
    }
   ],
   "source": [
    "result"
   ]
  },
  {
   "cell_type": "code",
   "execution_count": 60,
   "metadata": {},
   "outputs": [
    {
     "name": "stdout",
     "output_type": "stream",
     "text": [
      "True\n",
      "4\n",
      "eq\n",
      "1\n"
     ]
    },
    {
     "data": {
      "text/plain": [
       "{'took': 4,\n",
       " 'timed_out': False,\n",
       " '_shards': {'total': 3, 'successful': 3, 'skipped': 0, 'failed': 0},\n",
       " 'hits': {'total': {'value': 1, 'relation': 'eq'},\n",
       "  'max_score': 2.0167708,\n",
       "  'hits': [{'_index': 'model',\n",
       "    '_id': '9be3d982-b6cd-4403-8373-c0e66f2eb98a',\n",
       "    '_score': 2.0167708,\n",
       "    '_source': {'name': 'pytorch_autoencoder',\n",
       "     'version': '0.0.1',\n",
       "     'type': 'unsupervised',\n",
       "     'uri': 'mlexchange/unsupervised-classifier',\n",
       "     'description': 'xxx',\n",
       "     'content_id': '9be3d982-b6cd-4403-8373-c0e66f2eb98a'}}]}}"
      ]
     },
     "execution_count": 60,
     "metadata": {},
     "output_type": "execute_result"
    }
   ],
   "source": [
    "resp = Search().using(es).query('match', name = 'pytorch_autoencoder').extra(track_total_hits = True).execute()\n",
    "\n",
    "print(resp.success())\n",
    "\n",
    "print(resp.took)\n",
    "\n",
    "print(resp.hits.total.relation)\n",
    "\n",
    "print(resp.hits.total.value)\n",
    "\n",
    "\n",
    "# for h in resp:\n",
    "#     print(h.name, h.uid)\n",
    "\n",
    "\n",
    "resp.to_dict()\n"
   ]
  },
  {
   "cell_type": "markdown",
   "metadata": {},
   "source": [
    "## Add a new index\n",
    "\n",
    "HTTP POST\n",
    "\n",
    "URI: ‘/add-index/{index}’\n",
    "\n",
    "Def add_index(index: str)\n",
    "\n",
    "Description: Check if the index exists, if not, add the given index\n",
    "\n",
    "Return: `{index} has been successfully inserted!`\n"
   ]
  },
  {
   "cell_type": "code",
   "execution_count": 15,
   "metadata": {},
   "outputs": [],
   "source": [
    "def create_index(index: str):\n",
    "    '''\n",
    "    Check if the index exists, if not, add the given index\n",
    "    '''\n",
    "    try:\n",
    "        resp = Index(index).create(using = es)\n",
    "        return [f'Index: \\\"{index}\\\" has been successfully created!', resp]\n",
    "\n",
    "    except Exception as e:\n",
    "        return f'Index: \\\"{index}\\\" already exists, please check.'\n",
    "\n",
    "    "
   ]
  },
  {
   "cell_type": "code",
   "execution_count": 16,
   "metadata": {},
   "outputs": [
    {
     "data": {
      "text/plain": [
       "'Index: \"model\" already exists, please check.'"
      ]
     },
     "execution_count": 16,
     "metadata": {},
     "output_type": "execute_result"
    }
   ],
   "source": [
    "create_index('model')"
   ]
  },
  {
   "cell_type": "markdown",
   "metadata": {},
   "source": [
    "## Add/update doc into an index\n",
    "\n",
    "HTTP POST\n",
    "\n",
    "URI: ‘/add-doc/{index}/{field}’\n",
    "\n",
    "Def add_doc(index: str, field: str)\n",
    "\n",
    "Description: Check if the doc exists, if not, add doc to the given index\n",
    "\n",
    "Return: `{field} has been successfully inserted into {index}!`\n"
   ]
  },
  {
   "cell_type": "code",
   "execution_count": 30,
   "metadata": {},
   "outputs": [],
   "source": [
    "def create_doc(index: str, id: str, doc: dict):\n",
    "    '''\n",
    "    Check if the doc exists within the given index, then add/update doc to the index.\n",
    "    '''\n",
    "    check_index = Index(index).exists(using = es)\n",
    "    if not check_index:\n",
    "        return f'Index: \\\"{index}\\\" does not exist, please check.'\n",
    "    else:\n",
    "        check_doc = Document().exists(using = es, index = index, id = id)\n",
    "        if check_doc:\n",
    "            es.index(index = index, id = id, document = doc)\n",
    "            return 'UID: \\\"' + doc['uid'] + '\\\" has been updated.'\n",
    "        else:\n",
    "            es.index(index = index, id = id, document = doc)\n",
    "            return f'New document has been successfully inserted in \\\"{index}\\\".'\n",
    "\n"
   ]
  },
  {
   "cell_type": "code",
   "execution_count": 31,
   "metadata": {},
   "outputs": [
    {
     "data": {
      "text/plain": [
       "'UID: \"A12345\" has been updated.'"
      ]
     },
     "execution_count": 31,
     "metadata": {},
     "output_type": "execute_result"
    }
   ],
   "source": [
    "doc = {'name': 'Tibbers Hao',\n",
    "   'affiliation': 'LBNL',\n",
    "   'role': 'admin',\n",
    "   'uid': 'A12345'}\n",
    "create_doc('user', doc['uid'], doc)"
   ]
  },
  {
   "cell_type": "markdown",
   "metadata": {},
   "source": [
    "## Delete a doc\n",
    "\n",
    "HTTP DELETE\n",
    "\n",
    "URI: ‘/delete-doc/{index}/{id or field}’\n",
    "\n",
    "Def delete_doc(index: str, field: str, id: str/int)\n",
    "\n",
    "Description: Check if the doc exists, if yes, delete doc in the specified index\n",
    "\n",
    "Return: ‘{field} has been successfully Deleted in {index}!’ \n"
   ]
  },
  {
   "cell_type": "code",
   "execution_count": 477,
   "metadata": {},
   "outputs": [],
   "source": [
    "def delete_doc(index: str, keyword: str):\n",
    "    '''\n",
    "    Delete document within specified index\n",
    "    '''\n",
    "    resp = Search().using(es).index(index).query('match', name = keyword).delete()\n",
    "    return 'Document has been deleted.'"
   ]
  },
  {
   "cell_type": "code",
   "execution_count": 485,
   "metadata": {},
   "outputs": [
    {
     "data": {
      "text/plain": [
       "'Document has been deleted.'"
      ]
     },
     "execution_count": 485,
     "metadata": {},
     "output_type": "execute_result"
    }
   ],
   "source": [
    "delete_doc('user', '')"
   ]
  },
  {
   "cell_type": "markdown",
   "metadata": {},
   "source": [
    "## Delete an index \n",
    "\n",
    "HTTP DELETE\n",
    "\n",
    "URI: ‘/delete-index/{index}’\n",
    "\n",
    "Def delete_index(index; str)\n",
    "\n",
    "Description: Check if the index exists, if yes, delete the index (and all docs within)\n",
    "\n",
    "Return: ‘{index} has been successfully Deleted!’ \n"
   ]
  },
  {
   "cell_type": "code",
   "execution_count": 66,
   "metadata": {},
   "outputs": [],
   "source": [
    "def delete_index(index: str):\n",
    "    '''\n",
    "    Check if the index exists, if not, add the given index\n",
    "    '''\n",
    "    try:\n",
    "        resp = Index(index).delete(using = es)\n",
    "        print(f'Index: \\\"{index}\\\" has been successfully deleted!')\n",
    "        print(resp)\n",
    "    except Exception as e:\n",
    "        print(f'Index: \\\"{index}\\\" does not exist.')"
   ]
  },
  {
   "cell_type": "code",
   "execution_count": 74,
   "metadata": {},
   "outputs": [
    {
     "name": "stdout",
     "output_type": "stream",
     "text": [
      "Index: \"model\" has been successfully deleted!\n",
      "{'acknowledged': True}\n"
     ]
    }
   ],
   "source": [
    "delete_index('model')"
   ]
  },
  {
   "cell_type": "code",
   "execution_count": 32,
   "metadata": {},
   "outputs": [
    {
     "name": "stdout",
     "output_type": "stream",
     "text": [
      "<Hit(app/1): {'name': 'segmentation', 'target': 'image', 'uid': '1'}>\n",
      "<Hit(model/9be3d982-b6cd-4403-8373-c0e66f2eb98a): {'content_type': 'model', 'name': 'pytorch_autoencoder', 've...}>\n",
      "<Hit(user/A12345): {'name': 'Tibbers Hao', 'affiliation': 'LBNL', 'role': 'admi...}>\n",
      "<Hit(workflow/ad5e2cd0-ac88-4c31-bc05-65dbd4ca3cd9): {'content_type': 'workflow', 'name': 'Image Labeling', 'vers...}>\n",
      "<Hit(app/2): {'name': 'peak detection', 'target': 'spectra', 'uid': '2'}>\n",
      "<Hit(model/a5e21579-c238-440a-8703-3f858e2ddbc3): {'version': '1.0.0', 'type': 'unsupervised', 'uri': 'xxx', '...}>\n",
      "<Hit(user/A67890): {'name': 'Tanny Andrea Chavez Esparza', 'affiliation': 'LBNL...}>\n",
      "<Hit(app/3): {'name': 'label maker', 'target': 'image', 'uid': '3'}>\n",
      "<Hit(model/dd184a4d-beee-4f1c-9ce1-3b03a6eac160): {'version': '1.0.0', 'type': 'supervised', 'uri': 'xxx', 'ap...}>\n",
      "<Hit(user/A13579): {'name': 'Zhuowen Zhao', 'affiliation': 'LBNL', 'role': 'adm...}>\n",
      "<Hit(app/4): {'name': 'colorwheel', 'target': 'image', 'uid': '4'}>\n",
      "<Hit(model/d68d176e-3c9e-4cb5-8d86-e775164c9dbd): {'version': '1.0.0', 'type': 'supervised', 'uri': 'xxx', 'ap...}>\n",
      "<Hit(user/A24680): {'name': 'Elizabeth Holman', 'affiliation': 'LBNL', 'role': ...}>\n",
      "<Hit(app/4fe35a4b-32d3-4bd5-b7e7-ddbc96b190d9): {'content_type': 'app', 'name': 'labelmaker', 'version': '1....}>\n",
      "<Hit(model/37d9c5c0-a044-427d-b722-6ddef878f59b): {'version': '1.0.0', 'type': 'supervised', 'uri': 'xxx', 'ap...}>\n",
      "<Hit(user/A09876): {'name': 'Hari Krishnan', 'affiliation': 'LBNL', 'role': 'ad...}>\n",
      "<Hit(app/90597d46-82db-406e-aa16-74788dd50bd7): {'content_type': 'app', 'name': 'seg-demo', 'version': '1.0....}>\n",
      "<Hit(model/1705cb31-f030-401f-8fbc-791eeec2c445): {'version': '1.0.0', 'type': 'supervised', 'uri': 'xxx', 'ap...}>\n",
      "<Hit(user/A54321): {'name': 'Howard Yanxon', 'affiliation': 'ANL', 'role': 'adm...}>\n",
      "<Hit(model/d39d5efc-aa47-4821-a145-b594df677e9d): {'version': '1.0.0', 'type': 'supervised', 'uri': 'xxx', 'ap...}>\n",
      "<Hit(user/B12121): {'name': 'Dula Parkinson', 'affiliation': 'LBNL', 'role': 'u...}>\n",
      "<Hit(user/B56565): {'name': 'John Doe', 'affiliation': 'UCB', 'role': 'user', '...}>\n",
      "<Hit(user/B78787): {'name': 'Jane Doe', 'affiliation': 'Stanford', 'role': 'use...}>\n"
     ]
    }
   ],
   "source": [
    "for h in Search().using(es).scan():\n",
    "    print(h)"
   ]
  },
  {
   "cell_type": "code",
   "execution_count": 44,
   "metadata": {},
   "outputs": [
    {
     "data": {
      "text/plain": [
       "\"['a', 'b']\""
      ]
     },
     "execution_count": 44,
     "metadata": {},
     "output_type": "execute_result"
    }
   ],
   "source": [
    "str(['a', 'b'])"
   ]
  },
  {
   "cell_type": "code",
   "execution_count": null,
   "metadata": {},
   "outputs": [],
   "source": []
  }
 ],
 "metadata": {
  "interpreter": {
   "hash": "31cd925df3a9a2b93a9ec5353d213be0abd2a58cb727e588c5a163875b43a5df"
  },
  "kernelspec": {
   "display_name": "Python 3.10.0 ('elasticsearch')",
   "language": "python",
   "name": "python3"
  },
  "language_info": {
   "codemirror_mode": {
    "name": "ipython",
    "version": 3
   },
   "file_extension": ".py",
   "mimetype": "text/x-python",
   "name": "python",
   "nbconvert_exporter": "python",
   "pygments_lexer": "ipython3",
   "version": "3.10.2"
  },
  "orig_nbformat": 4
 },
 "nbformat": 4,
 "nbformat_minor": 2
}
